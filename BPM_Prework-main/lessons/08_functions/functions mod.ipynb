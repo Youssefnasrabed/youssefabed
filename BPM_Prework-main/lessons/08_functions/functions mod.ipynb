{
 "cells": [
  {
   "cell_type": "markdown",
   "metadata": {},
   "source": [
    "# Functions\n",
    "\n",
    "In this notebook we will: \n",
    "- Learn how to work with `Functions`"
   ]
  },
  {
   "cell_type": "markdown",
   "metadata": {},
   "source": [
    "### Motivation\n",
    "\n",
    "A `function` is a block of code that can be re-used more than once.  A program can often be broken into simpler subtasks, that can be contained within a `function`.  "
   ]
  },
  {
   "cell_type": "markdown",
   "metadata": {},
   "source": [
    "### Built-In Functions\n",
    "\n",
    "Python has some built-in functions that we have already been using.  These allow us to not have to write the complete code ourselves.  Let's look at some examples below."
   ]
  },
  {
   "cell_type": "code",
   "execution_count": null,
   "metadata": {},
   "outputs": [],
   "source": [
    "max(10, 2, 3) # returns the largest value"
   ]
  },
  {
   "cell_type": "code",
   "execution_count": null,
   "metadata": {},
   "outputs": [],
   "source": [
    "min(10, -20, -100, 0, 3.1415) # return the smallest value"
   ]
  },
  {
   "cell_type": "code",
   "execution_count": null,
   "metadata": {},
   "outputs": [],
   "source": [
    "len(\"Hello\")  # return the length of the string"
   ]
  },
  {
   "cell_type": "code",
   "execution_count": null,
   "metadata": {},
   "outputs": [],
   "source": [
    "print(\"Hello World\") # prints \"Hello World\" to the output"
   ]
  },
  {
   "cell_type": "markdown",
   "metadata": {},
   "source": [
    "### Parts of a function\n",
    "\n",
    "Let's look at the statement `b = len(\"Hello\")`. Here we have:\n",
    "\n",
    "- A **function** with name `len`\n",
    "- A **call** to the function `len(.....)` (i.e. we are running the function)\n",
    "- **Input** (aka arguments) to the function (these are the values the function \"receives\"). In this case, the input is `\"Hello\"`\n",
    "- A **returned** value, or **output** (in this case, the output is `5` and gets assigned to `b`)\n",
    "- Any **side effects** (things the function does besides output a value)\n",
    "\n",
    "Let's look at a few examples:\n",
    "\n",
    "| Function call | Function | Inputs | Output | Side Effect | \n",
    "|------| ----------| ------- |  ------- | ---------- |\n",
    "| `len(\"hello\")` | `len` | `\"hello\"` |  5 | None |\n",
    "| `max(10, 2 , 3)` | `max` | `10, 2, 3` | 10 | None |\n",
    "| `min(10, -20, -100, 0, 3.1415)` | `min` | `10, -20, -100, 0, 3.1415` | -100 | None |\n",
    "| `print(\"Hello World\")` | `print` | `\"Hello World\"`| `None` | Prints \"Hello World\" to terminal |\n",
    "\n",
    "- Every function returns exactly 1 value (no more, no less)\n",
    "- Some functions have side effects, others don't"
   ]
  },
  {
   "cell_type": "code",
   "execution_count": null,
   "metadata": {},
   "outputs": [],
   "source": [
    "# If there is no variable to assign to, the value is \"returned\" to the terminal\n",
    "max(1,2,3)"
   ]
  },
  {
   "cell_type": "code",
   "execution_count": null,
   "metadata": {},
   "outputs": [],
   "source": [
    "# If there is a variable to assign to, the value is \"returned\" and stored in the variable\n",
    "# Nothing is printed\n",
    "biggest_number = max(1, 2, 3)"
   ]
  },
  {
   "cell_type": "code",
   "execution_count": null,
   "metadata": {},
   "outputs": [],
   "source": [
    "# We can see what was stored in biggest number\n",
    "biggest_number"
   ]
  },
  {
   "cell_type": "markdown",
   "metadata": {},
   "source": [
    "### Defining a Function\n",
    "\n",
    "We can also create new `functions`.  This is one of the most __powerful__ tools in programming.  Let's start with an example:"
   ]
  },
  {
   "cell_type": "code",
   "execution_count": 1,
   "metadata": {},
   "outputs": [],
   "source": [
    "def say_hello(num_times): \n",
    "    return 'hello ' * num_times # \"repeat hello 3 times\""
   ]
  },
  {
   "cell_type": "code",
   "execution_count": 2,
   "metadata": {},
   "outputs": [
    {
     "data": {
      "text/plain": [
       "'hello hello hello '"
      ]
     },
     "execution_count": 2,
     "metadata": {},
     "output_type": "execute_result"
    }
   ],
   "source": [
    "say_hello(3)"
   ]
  },
  {
   "cell_type": "markdown",
   "metadata": {},
   "source": [
    "Here:\n",
    "- `def` is a keyword (used to say \"I am defining a function\")\n",
    "- Next is the function name `say_hello`\n",
    "- Then are the arguments. In this case, the function takes one argument (or input) named `num_times`\n",
    "- Then we have a colon (telling us we are starting a code block, which is indented)\n",
    "- The function exits with the word return (this is the value the function send back) OR when we reach the end of the block. If there is no return, the function returns `None` (remember we ALWAYS return something, even if it is `None`).\n",
    "\n",
    "We can call the function in the same way we call the built-in functions: `say_hello(3)`."
   ]
  },
  {
   "cell_type": "markdown",
   "metadata": {},
   "source": [
    "A function can take more than one argument:"
   ]
  },
  {
   "cell_type": "code",
   "execution_count": 7,
   "metadata": {},
   "outputs": [],
   "source": [
    "def can_vote_in_us(age, citizen):\n",
    "    if age < 18 or citizen == False:\n",
    "        return False # \"if above condition is satisfied return False\"\n",
    "    return True # \"if not satisfied it returns True\""
   ]
  },
  {
   "cell_type": "code",
   "execution_count": 9,
   "metadata": {},
   "outputs": [
    {
     "data": {
      "text/plain": [
       "False"
      ]
     },
     "execution_count": 9,
     "metadata": {},
     "output_type": "execute_result"
    }
   ],
   "source": [
    "can_vote_in_us(17, True)"
   ]
  },
  {
   "cell_type": "markdown",
   "metadata": {},
   "source": [
    "### Exercise\n",
    "\n",
    "Write a function that receives the temperature in **Celsius**, and returns the temperature in **Fahrenheit**.\n",
    "\n",
    "\n",
    "<center>\n",
    "$F = \\frac{9}{5} * C + 32 $\n",
    "</center>"
   ]
  },
  {
   "cell_type": "code",
   "execution_count": null,
   "metadata": {},
   "outputs": [],
   "source": [
    "### Write your code here\n",
    "\n",
    "\n",
    "\n"
   ]
  },
  {
   "cell_type": "code",
   "execution_count": 16,
   "metadata": {},
   "outputs": [],
   "source": [
    "### ANSWER\n",
    "\n",
    "C_TO_F_SCALER = 9/5\n",
    "C_OFFSET = 32\n",
    "\n",
    "def C_to_F(degrees_C):\n",
    "    \"\"\"Returns degrees_C converted to Fahrenheit\"\"\" # \"just clasrfication that results if we use help(C_to_F)\"\n",
    "    return C_TO_F_SCALER*degrees_C + C_OFFSET "
   ]
  },
  {
   "cell_type": "code",
   "execution_count": 13,
   "metadata": {},
   "outputs": [
    {
     "data": {
      "text/plain": [
       "68.0"
      ]
     },
     "execution_count": 13,
     "metadata": {},
     "output_type": "execute_result"
    }
   ],
   "source": [
    "C_to_F(20)"
   ]
  },
  {
   "cell_type": "code",
   "execution_count": 14,
   "metadata": {},
   "outputs": [
    {
     "data": {
      "text/plain": [
       "86.0"
      ]
     },
     "execution_count": 14,
     "metadata": {},
     "output_type": "execute_result"
    }
   ],
   "source": [
    "C_to_F(30)"
   ]
  },
  {
   "cell_type": "markdown",
   "metadata": {},
   "source": [
    "__Note__ that in the function we can add information about what it does using \"\"\"...\"\"\""
   ]
  },
  {
   "cell_type": "code",
   "execution_count": 17,
   "metadata": {
    "scrolled": true
   },
   "outputs": [
    {
     "name": "stdout",
     "output_type": "stream",
     "text": [
      "Help on function C_to_F in module __main__:\n",
      "\n",
      "C_to_F(degrees_C)\n",
      "    Returns degrees_C converted to Fahrenheit\n",
      "\n"
     ]
    }
   ],
   "source": [
    "help(C_to_F) "
   ]
  },
  {
   "cell_type": "markdown",
   "metadata": {},
   "source": [
    "This is the same as how built-in functions work."
   ]
  },
  {
   "cell_type": "code",
   "execution_count": null,
   "metadata": {},
   "outputs": [],
   "source": [
    "help(len)"
   ]
  },
  {
   "cell_type": "markdown",
   "metadata": {},
   "source": [
    "### Exercise\n",
    "\n",
    "In the bank example, we had the following rules:\n",
    "- We start with a `balance`\n",
    "- We transfer money `transfer`\n",
    "- If we withdrew money (`transfer < 0`) AND we ended with a final negative balance (`balance + transfer < 0`) THEN we got charged 20 dollars as an overdraft\n",
    "\n",
    "Let's put this in a function called `get_new_balance` which receives two argument: `balance` and `transfer` and returns the __new__ `balance`, such that:\n",
    "\n",
    "```python\n",
    "get_new_balance(30, -40) # should return -30\n",
    "```"
   ]
  },
  {
   "cell_type": "code",
   "execution_count": 18,
   "metadata": {},
   "outputs": [
    {
     "name": "stdout",
     "output_type": "stream",
     "text": [
      "-30\n"
     ]
    }
   ],
   "source": [
    "### Modify the code below to be in a function\n",
    "\n",
    "balance = 30 # \"first parameter of the function\"\n",
    "transfer = -40 # \"second parameter of the function\"\n",
    "fee = 20\n",
    "\n",
    "balance += transfer\n",
    "if balance < 0 and transfer < 0:\n",
    "    balance -= fee\n",
    "\n",
    "print(balance)"
   ]
  },
  {
   "cell_type": "code",
   "execution_count": 19,
   "metadata": {},
   "outputs": [],
   "source": [
    "## ANSWER\n",
    "def get_new_balance(balance, transfer):\n",
    "    \"\"\"Return new balance after transferring money\n",
    "    \n",
    "    Calculates new balance if we start with initial_balance\n",
    "    dollars in account, and transfer money. Deposits have \n",
    "    transfer > 0, withdraws have transfer < 0.\n",
    "    \n",
    "    Appropriate overdraft fee rules are also applied.\n",
    "    \"\"\"\n",
    "    fee = 20 # \"fee is defined constant\"\n",
    "    balance += transfer\n",
    "    if balance < 0 and transfer < 0:\n",
    "        balance -= fee\n",
    "    return balance"
   ]
  },
  {
   "cell_type": "code",
   "execution_count": 20,
   "metadata": {},
   "outputs": [
    {
     "data": {
      "text/plain": [
       "-30"
      ]
     },
     "execution_count": 20,
     "metadata": {},
     "output_type": "execute_result"
    }
   ],
   "source": [
    "get_new_balance(30, -40)"
   ]
  },
  {
   "cell_type": "markdown",
   "metadata": {},
   "source": [
    "### Exercise:\n",
    "\n",
    "Let's now assume we have a list of transactions.  Write code that calculates the final balance by calling the `get_new_balance` function."
   ]
  },
  {
   "cell_type": "code",
   "execution_count": null,
   "metadata": {},
   "outputs": [],
   "source": [
    "balance = 50\n",
    "list_transfers = [10, -100, -15, 30, 25] # the final balance should be $-40\n",
    "\n",
    "### Write code here\n",
    "\n"
   ]
  },
  {
   "cell_type": "code",
   "execution_count": null,
   "metadata": {},
   "outputs": [],
   "source": [
    "### ANSWER\n",
    "\n",
    "balance = 50\n",
    "list_transfers = [10, -100, -15, 30, 25]\n",
    "\n",
    "for transfer in list_transfers:\n",
    "    balance = get_new_balance(balance, transfer) \n",
    "\n",
    "print(balance)"
   ]
  },
  {
   "cell_type": "markdown",
   "metadata": {},
   "source": [
    "We can be a bit more clever and create another function called `get_final_balance` that contains the `for loop` **(composite function)**."
   ]
  },
  {
   "cell_type": "code",
   "execution_count": 23,
   "metadata": {},
   "outputs": [],
   "source": [
    "# this function is the same as above\n",
    "def get_new_balance(balance, transfer):\n",
    "    \"\"\"Return new balance after a single transfer\n",
    "    \"\"\"\n",
    "    fee = 20\n",
    "    balance += transfer\n",
    "    if balance < 0 and transfer < 0:\n",
    "        balance -= fee\n",
    "    return balance\n",
    "\n",
    "# this is our new function\n",
    "def get_final_balance(balance, transfers):\n",
    "    \"\"\"Return new balance after many transfers of money\n",
    "    \"\"\"\n",
    "    for transfer in transfers: # \"for each element in the transfer list\"\n",
    "        balance = get_new_balance(balance, transfer) # \" here we used the previous function\"\n",
    "    return balance"
   ]
  },
  {
   "cell_type": "code",
   "execution_count": 24,
   "metadata": {},
   "outputs": [
    {
     "data": {
      "text/plain": [
       "-40"
      ]
     },
     "execution_count": 24,
     "metadata": {},
     "output_type": "execute_result"
    }
   ],
   "source": [
    "balance = 50\n",
    "list_transfers = [10, -100, -15, 30, 25]\n",
    "\n",
    "get_final_balance(balance, list_transfers)"
   ]
  },
  {
   "cell_type": "markdown",
   "metadata": {},
   "source": [
    "### Default Arguments\n",
    "\n",
    "When we create functions we can assign default values to the arguments such that if no value is passed, it uses the default.  Let's look at the example below:"
   ]
  },
  {
   "cell_type": "code",
   "execution_count": 25,
   "metadata": {},
   "outputs": [],
   "source": [
    "def power(number, exponent = 2): # \"unless the value of the exponent is given, it is default 2\"\n",
    "    return number**exponent"
   ]
  },
  {
   "cell_type": "code",
   "execution_count": 26,
   "metadata": {},
   "outputs": [
    {
     "data": {
      "text/plain": [
       "27"
      ]
     },
     "execution_count": 26,
     "metadata": {},
     "output_type": "execute_result"
    }
   ],
   "source": [
    "power(3,3) # It assigns exponent to a value of 3"
   ]
  },
  {
   "cell_type": "code",
   "execution_count": 27,
   "metadata": {},
   "outputs": [
    {
     "data": {
      "text/plain": [
       "9"
      ]
     },
     "execution_count": 27,
     "metadata": {},
     "output_type": "execute_result"
    }
   ],
   "source": [
    "power(3) # It uses the default exponent value of 2, the same as power(3,2)"
   ]
  },
  {
   "cell_type": "markdown",
   "metadata": {},
   "source": [
    "In the example above, ommiting the second argument automatically assigns the value of the default `2`."
   ]
  },
  {
   "cell_type": "markdown",
   "metadata": {},
   "source": [
    "### Keyword and Positional Arguments"
   ]
  },
  {
   "cell_type": "code",
   "execution_count": 28,
   "metadata": {},
   "outputs": [],
   "source": [
    "def power_plus(number, exponent, plus): # \"Note: number has to be either mentioned or be in the first argument\"\n",
    "    return number**exponent+plus"
   ]
  },
  {
   "cell_type": "markdown",
   "metadata": {},
   "source": [
    "The function above can be called by `position`, as shown below:"
   ]
  },
  {
   "cell_type": "code",
   "execution_count": 29,
   "metadata": {},
   "outputs": [
    {
     "data": {
      "text/plain": [
       "10"
      ]
     },
     "execution_count": 29,
     "metadata": {},
     "output_type": "execute_result"
    }
   ],
   "source": [
    "power_plus(3,2,1) # 3**2+1 = 10"
   ]
  },
  {
   "cell_type": "markdown",
   "metadata": {},
   "source": [
    "It can also be called by `keyword`"
   ]
  },
  {
   "cell_type": "code",
   "execution_count": 30,
   "metadata": {},
   "outputs": [
    {
     "data": {
      "text/plain": [
       "10"
      ]
     },
     "execution_count": 30,
     "metadata": {},
     "output_type": "execute_result"
    }
   ],
   "source": [
    "power_plus(plus = 1, number = 3, exponent = 2) # Note that the order does not matter"
   ]
  },
  {
   "cell_type": "markdown",
   "metadata": {},
   "source": [
    "Or we can use a combination of `position` and `keywords`."
   ]
  },
  {
   "cell_type": "code",
   "execution_count": 31,
   "metadata": {},
   "outputs": [
    {
     "data": {
      "text/plain": [
       "10"
      ]
     },
     "execution_count": 31,
     "metadata": {},
     "output_type": "execute_result"
    }
   ],
   "source": [
    "power_plus(3, plus = 1, exponent = 2)"
   ]
  },
  {
   "cell_type": "markdown",
   "metadata": {},
   "source": [
    "__NOTE__: positions __MUST__ come first or else it will error out as shown below."
   ]
  },
  {
   "cell_type": "code",
   "execution_count": 32,
   "metadata": {},
   "outputs": [
    {
     "ename": "SyntaxError",
     "evalue": "positional argument follows keyword argument (<ipython-input-32-e15015fd4eec>, line 1)",
     "output_type": "error",
     "traceback": [
      "\u001b[1;36m  File \u001b[1;32m\"<ipython-input-32-e15015fd4eec>\"\u001b[1;36m, line \u001b[1;32m1\u001b[0m\n\u001b[1;33m    power_plus(exponent = 2, number = 3, 1)\u001b[0m\n\u001b[1;37m                                        ^\u001b[0m\n\u001b[1;31mSyntaxError\u001b[0m\u001b[1;31m:\u001b[0m positional argument follows keyword argument\n"
     ]
    }
   ],
   "source": [
    "power_plus(exponent = 2, number = 3, 1)  # \"Note: number has to be either mentioned or be in the first argument\""
   ]
  },
  {
   "cell_type": "markdown",
   "metadata": {},
   "source": [
    "### Return values\n",
    "\n",
    "Functions can return values that get assigned to more than one variable."
   ]
  },
  {
   "cell_type": "code",
   "execution_count": 33,
   "metadata": {},
   "outputs": [
    {
     "name": "stdout",
     "output_type": "stream",
     "text": [
      "5 6\n"
     ]
    }
   ],
   "source": [
    "def sum_and_prod(a,b):\n",
    "    sum_val = a+b\n",
    "    prod_val = a*b\n",
    "    return sum_val, prod_val\n",
    "\n",
    "sum_res, prod_res = sum_and_prod(2,3)\n",
    "\n",
    "print(sum_res,prod_res)"
   ]
  },
  {
   "cell_type": "markdown",
   "metadata": {},
   "source": [
    "### Scope\n",
    "\n",
    "`Scope` in programming refers to the \"region\" where a variable exists and is valid in.  In Python, there are 2 main scopes:\n",
    "* __Global Scope:__ The Global Region encompasses any space of a program that is NOT inside a function\n",
    "* __Local Scope:__ The Local Region encompasses any space of a program that IS inside a function "
   ]
  },
  {
   "cell_type": "markdown",
   "metadata": {},
   "source": [
    "You can observe global variables inside a function as shown below."
   ]
  },
  {
   "cell_type": "code",
   "execution_count": 35,
   "metadata": {},
   "outputs": [
    {
     "name": "stdout",
     "output_type": "stream",
     "text": [
      "Hi World from inside the function\n",
      "\n",
      "\n",
      "Hi World from outside the function\n"
     ]
    }
   ],
   "source": [
    "temp1 = \"Hi World\" # Global variable temp1\n",
    "\n",
    "def my_func():\n",
    "    print(f\"{temp1} from inside the function\") # Global variable temp1\n",
    "    print('\\n') # adds a break line\n",
    "\n",
    "my_func() \n",
    "print(f\"{temp1} from outside the function\") # Global variable temp1"
   ]
  },
  {
   "cell_type": "markdown",
   "metadata": {},
   "source": [
    "If you have a local variable inside a function, it does __NOT__ modify the global variable outside the function."
   ]
  },
  {
   "cell_type": "code",
   "execution_count": 36,
   "metadata": {},
   "outputs": [
    {
     "name": "stdout",
     "output_type": "stream",
     "text": [
      "Hey World from inside the function\n",
      "\n",
      "\n",
      "Hello World from outside the function\n"
     ]
    }
   ],
   "source": [
    "temp2 = \"Hello World\" # Global variable temp2\n",
    "\n",
    "def my_func():\n",
    "    temp2 = \"Hey World\" # \"here the variable is in the function loca l scope\"\n",
    "    print(f\"{temp2} from inside the function\") # Local variable temp2\n",
    "    print('\\n') # \"adds a break line\"\n",
    "\n",
    "my_func()\n",
    "print(f\"{temp2} from outside the function\") # Global variable temp2"
   ]
  },
  {
   "cell_type": "code",
   "execution_count": 37,
   "metadata": {},
   "outputs": [
    {
     "name": "stdout",
     "output_type": "stream",
     "text": [
      "Bye World from inside the function\n",
      "Chao World from inside the function\n",
      "\n",
      "\n",
      "Bye World from outside the function\n"
     ]
    }
   ],
   "source": [
    "temp3 = \"Bye World\" # Global variable temp3\n",
    "\n",
    "def my_func(temp3):\n",
    "    print(f\"{temp3} from inside the function\") # Local variable temp3\n",
    "    temp3 = \"Chao World\" # modifies the Local variable temp3\n",
    "    print(f\"{temp3} from inside the function\") # Local variable temp3\n",
    "    print('\\n') # adds a break line\n",
    "\n",
    "my_func(temp3)\n",
    "print(f\"{temp3} from outside the function\") # Global variable temp3"
   ]
  },
  {
   "cell_type": "code",
   "execution_count": null,
   "metadata": {},
   "outputs": [],
   "source": []
  }
 ],
 "metadata": {
  "kernelspec": {
   "display_name": "Python 3",
   "language": "python",
   "name": "python3"
  },
  "language_info": {
   "codemirror_mode": {
    "name": "ipython",
    "version": 3
   },
   "file_extension": ".py",
   "mimetype": "text/x-python",
   "name": "python",
   "nbconvert_exporter": "python",
   "pygments_lexer": "ipython3",
   "version": "3.7.6"
  },
  "toc": {
   "base_numbering": 1,
   "nav_menu": {},
   "number_sections": false,
   "sideBar": true,
   "skip_h1_title": false,
   "title_cell": "Table of Contents",
   "title_sidebar": "Contents",
   "toc_cell": false,
   "toc_position": {},
   "toc_section_display": true,
   "toc_window_display": true
  }
 },
 "nbformat": 4,
 "nbformat_minor": 2
}
