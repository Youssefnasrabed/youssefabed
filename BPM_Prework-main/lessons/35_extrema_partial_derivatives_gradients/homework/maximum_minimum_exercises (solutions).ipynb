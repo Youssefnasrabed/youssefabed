{
 "cells": [
  {
   "cell_type": "markdown",
   "metadata": {},
   "source": [
    "### Problem 1:\n",
    "\n",
    "Find the maximum and minimum of the following function $f(x) = 2x^3-5x^2+4x-1$\n",
    "\n"
   ]
  },
  {
   "cell_type": "markdown",
   "metadata": {},
   "source": [
    "### Solutions: \n",
    "\n",
    "$f'(x) = 6x^2-10x+4 = 0$\n",
    "\n",
    "$x = \\frac{10\\pm\\sqrt{(-10)^2-4*6*4}}{2*6} = \\frac{10\\pm\\sqrt{100-96}}{12} = \\frac{10\\pm2}{12}$\n",
    "\n",
    "We have two points where we may have a max or min, $x_1 = 1$ and $x_2 = \\frac{2}{3}$\n",
    "\n",
    "$f''(x) = 12x-10$\n",
    "\n",
    "For $x_1$ we have $f''(1) = 12*1-10 = 2$.  Since it is positive it is a minimum.\n",
    "\n",
    "For $x_2$ we have $f''(\\frac{2}{3}) = 12*\\frac{2}{3}-10 = -2$.  Since it is positive it is a maximum.\n"
   ]
  },
  {
   "cell_type": "code",
   "execution_count": null,
   "metadata": {},
   "outputs": [],
   "source": [
    "import matplotlib.pylab as plt\n",
    "import numpy as np\n",
    "\n",
    "%matplotlib inline"
   ]
  },
  {
   "cell_type": "code",
   "execution_count": null,
   "metadata": {
    "scrolled": true
   },
   "outputs": [],
   "source": [
    "x = np.arange(0.2,1.55,0.05)\n",
    "y = 2*x**3-5*x**2+4*x-1\n",
    "\n",
    "plt.plot(x,y)\n",
    "plt.grid()"
   ]
  },
  {
   "cell_type": "markdown",
   "metadata": {},
   "source": [
    "### Problem 2:\n",
    "\n",
    "Find the points where there is a derivative equal to zero for the following function $f(x) = \\frac{x^2+3}{x+1}$"
   ]
  },
  {
   "cell_type": "markdown",
   "metadata": {},
   "source": [
    "### Solutions:\n",
    "\n",
    "$f'(x) = \\frac{d}{dx}(x^2+3)*\\frac{1}{x+1}+(x^2+3)*\\frac{d}{dx}(\\frac{1}{x+1})$\n",
    "\n",
    "$f'(x) = (2x)*\\frac{1}{x+1}+(x^2+3)*\\frac{-1}{(x+1)^2}$\n",
    "\n",
    "$f'(x) = \\frac{2x}{x+1}-\\frac{x^2+3}{(x+1)^2}$\n",
    "\n",
    "$f'(x) = \\frac{2x(x+1)}{(x+1)^2}-\\frac{x^2+3}{(x+1)^2}$\n",
    "\n",
    "$f'(x) = \\frac{2x^2+2x-x^2-3}{(x+1)^2}$\n",
    "\n",
    "$f'(x) = \\frac{x^2+2x-3}{(x+1)^2} = 0$\n",
    "\n",
    "$f'(x) = x^2+2x-3 = 0$\n",
    "\n",
    "$x = \\frac{-2\\pm\\sqrt{2^2-4*1*(-3)}}{2*1} = \\frac{-2\\pm\\sqrt{4+12}}{2} = \\frac{-2\\pm4}{2}$\n",
    "\n",
    "We have two points where the derivative is zero, $x_1 = -3$ and $x_2 = 1$\n",
    "\n",
    "Note that the function is not defined for $x=-1$, given that it would be divided by 0.\n"
   ]
  },
  {
   "cell_type": "code",
   "execution_count": null,
   "metadata": {},
   "outputs": [],
   "source": [
    "x1 = np.arange(-4,-1.2,.2)\n",
    "y1 = (x1**2+3)/(x1+1)\n",
    "\n",
    "x2 = np.arange(-0.6,2,.1)\n",
    "y2 = (x2**2+3)/(x2+1)\n",
    "\n",
    "plt.plot(x1,y1)\n",
    "plt.plot(x2,y2)"
   ]
  },
  {
   "cell_type": "code",
   "execution_count": null,
   "metadata": {},
   "outputs": [],
   "source": []
  }
 ],
 "metadata": {
  "kernelspec": {
   "display_name": "Python 3",
   "language": "python",
   "name": "python3"
  },
  "language_info": {
   "codemirror_mode": {
    "name": "ipython",
    "version": 3
   },
   "file_extension": ".py",
   "mimetype": "text/x-python",
   "name": "python",
   "nbconvert_exporter": "python",
   "pygments_lexer": "ipython3",
   "version": "3.7.3"
  },
  "toc": {
   "base_numbering": 1,
   "nav_menu": {},
   "number_sections": false,
   "sideBar": true,
   "skip_h1_title": false,
   "title_cell": "Table of Contents",
   "title_sidebar": "Contents",
   "toc_cell": false,
   "toc_position": {},
   "toc_section_display": true,
   "toc_window_display": true
  }
 },
 "nbformat": 4,
 "nbformat_minor": 2
}
