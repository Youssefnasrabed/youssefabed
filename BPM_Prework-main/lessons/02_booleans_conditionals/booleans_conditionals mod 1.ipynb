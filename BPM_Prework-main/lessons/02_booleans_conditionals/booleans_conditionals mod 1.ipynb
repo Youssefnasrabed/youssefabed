{
 "cells": [
  {
   "cell_type": "markdown",
   "metadata": {},
   "source": [
    "# Boolean Logic, Boolean Operations and Conditional Logic\n",
    "\n",
    "In this notebook we will: \n",
    "- Understand `Boolean Logic`\n",
    "- Understand `Boolean Operations`\n",
    "- Learn how to use `Conditional Logic` **if**"
   ]
  },
  {
   "cell_type": "markdown",
   "metadata": {},
   "source": [
    "### Boolean Operators"
   ]
  },
  {
   "cell_type": "markdown",
   "metadata": {},
   "source": [
    "Boolean logic refers to answering questions that have only a `True` or `False` answer."
   ]
  },
  {
   "cell_type": "markdown",
   "metadata": {},
   "source": [
    "Boolean operators are examples of boolean questions.  What do you think the output of the following examples would be?"
   ]
  },
  {
   "cell_type": "code",
   "execution_count": 1,
   "metadata": {},
   "outputs": [
    {
     "data": {
      "text/plain": [
       "False"
      ]
     },
     "execution_count": 1,
     "metadata": {},
     "output_type": "execute_result"
    }
   ],
   "source": [
    "4<3 # less than"
   ]
  },
  {
   "cell_type": "code",
   "execution_count": 2,
   "metadata": {},
   "outputs": [
    {
     "data": {
      "text/plain": [
       "True"
      ]
     },
     "execution_count": 2,
     "metadata": {},
     "output_type": "execute_result"
    }
   ],
   "source": [
    "3>2 # greater than"
   ]
  },
  {
   "cell_type": "code",
   "execution_count": 3,
   "metadata": {},
   "outputs": [
    {
     "data": {
      "text/plain": [
       "True"
      ]
     },
     "execution_count": 3,
     "metadata": {},
     "output_type": "execute_result"
    }
   ],
   "source": [
    "3==3 # equal to"
   ]
  },
  {
   "cell_type": "code",
   "execution_count": null,
   "metadata": {},
   "outputs": [],
   "source": [
    "3!=2 # not equal to"
   ]
  },
  {
   "cell_type": "code",
   "execution_count": null,
   "metadata": {},
   "outputs": [],
   "source": [
    "3>=3 # greater or equal than"
   ]
  },
  {
   "cell_type": "code",
   "execution_count": null,
   "metadata": {},
   "outputs": [],
   "source": [
    "2<=1 # less or equal than"
   ]
  },
  {
   "cell_type": "markdown",
   "metadata": {},
   "source": [
    "### Exercise\n",
    "\n",
    "Is $32^3$ greater than $5^6$?"
   ]
  },
  {
   "cell_type": "code",
   "execution_count": 5,
   "metadata": {},
   "outputs": [
    {
     "name": "stdout",
     "output_type": "stream",
     "text": [
      "The answer is True\n"
     ]
    }
   ],
   "source": [
    "answer =32**3>=5**6 # Write code here\n",
    "\n",
    "print(f\"The answer is {answer}\")"
   ]
  },
  {
   "cell_type": "markdown",
   "metadata": {},
   "source": [
    "### Membership Test\n",
    "\n",
    "We can also use `in` and `not in` to identify substrings."
   ]
  },
  {
   "cell_type": "code",
   "execution_count": 6,
   "metadata": {},
   "outputs": [
    {
     "data": {
      "text/plain": [
       "True"
      ]
     },
     "execution_count": 6,
     "metadata": {},
     "output_type": "execute_result"
    }
   ],
   "source": [
    "'ber' in 'Albert' # \"check for subsbring\""
   ]
  },
  {
   "cell_type": "code",
   "execution_count": 7,
   "metadata": {},
   "outputs": [
    {
     "data": {
      "text/plain": [
       "True"
      ]
     },
     "execution_count": 7,
     "metadata": {},
     "output_type": "execute_result"
    }
   ],
   "source": [
    "'bar' not in 'Albert' "
   ]
  },
  {
   "cell_type": "markdown",
   "metadata": {},
   "source": [
    "### Logic Gates \n",
    "#### AND, OR and NOT\n",
    "\n",
    "- Below is a Truth Table for the __AND__, __OR__ and __NOT__ operations\n",
    "\n",
    "\n",
    "| A | B | A AND B | A OR B | NOT A |\n",
    "| :---: | :---: | :---: | :---: | :---: |\n",
    "| FALSE | FALSE | FALSE | FALSE | TRUE |\n",
    "| FALSE | TRUE | FALSE | TRUE | TRUE |\n",
    "| TRUE | FALSE | FALSE | TRUE | FALSE |\n",
    "| TRUE | TRUE | TRUE | TRUE | FALSE |"
   ]
  },
  {
   "cell_type": "code",
   "execution_count": 8,
   "metadata": {},
   "outputs": [
    {
     "data": {
      "text/plain": [
       "True"
      ]
     },
     "execution_count": 8,
     "metadata": {},
     "output_type": "execute_result"
    }
   ],
   "source": [
    "3>2 and 2>1 # True and True => True"
   ]
  },
  {
   "cell_type": "code",
   "execution_count": 9,
   "metadata": {
    "scrolled": true
   },
   "outputs": [
    {
     "data": {
      "text/plain": [
       "True"
      ]
     },
     "execution_count": 9,
     "metadata": {},
     "output_type": "execute_result"
    }
   ],
   "source": [
    "3>1 or 2>10 # True or False => True"
   ]
  },
  {
   "cell_type": "code",
   "execution_count": 10,
   "metadata": {
    "scrolled": true
   },
   "outputs": [
    {
     "data": {
      "text/plain": [
       "False"
      ]
     },
     "execution_count": 10,
     "metadata": {},
     "output_type": "execute_result"
    }
   ],
   "source": [
    "not 3>1 # not(True) => False"
   ]
  },
  {
   "cell_type": "markdown",
   "metadata": {},
   "source": [
    "What do you think the output will be for the following cells?"
   ]
  },
  {
   "cell_type": "code",
   "execution_count": 11,
   "metadata": {},
   "outputs": [
    {
     "name": "stdout",
     "output_type": "stream",
     "text": [
      "False\n"
     ]
    }
   ],
   "source": [
    "age = 21\n",
    "weight = 120\n",
    "\n",
    "print(age > 18 and weight > 130)"
   ]
  },
  {
   "cell_type": "code",
   "execution_count": 12,
   "metadata": {},
   "outputs": [
    {
     "name": "stdout",
     "output_type": "stream",
     "text": [
      "True\n"
     ]
    }
   ],
   "source": [
    "print(age > 18 or weight > 130)"
   ]
  },
  {
   "cell_type": "code",
   "execution_count": 13,
   "metadata": {},
   "outputs": [
    {
     "name": "stdout",
     "output_type": "stream",
     "text": [
      "True\n"
     ]
    }
   ],
   "source": [
    "print(age > 18 and not(weight > 130))"
   ]
  },
  {
   "cell_type": "markdown",
   "metadata": {},
   "source": [
    "### Conditional Logic"
   ]
  },
  {
   "cell_type": "markdown",
   "metadata": {},
   "source": [
    "When modeling problems, we often want different behavior depending on the value of a variable. Let's look at an example of a simple **if** statement."
   ]
  },
  {
   "cell_type": "code",
   "execution_count": 14,
   "metadata": {},
   "outputs": [
    {
     "name": "stdout",
     "output_type": "stream",
     "text": [
      "12 is an even number\n"
     ]
    }
   ],
   "source": [
    "number = 12\n",
    "if number % 2 == 0: # \"zero reminder\"\n",
    "    print(f\"{number} is an even number\")"
   ]
  },
  {
   "cell_type": "markdown",
   "metadata": {},
   "source": [
    "In the code above, if the number is divisibe by 2, it will print out `12 is an even number`.  In other cases (i.e. number is an odd number) the program does not print anything out.\n",
    "\n",
    "Python **uses _indentation_** to figure out what code belongs to the **if esle** statement. Let's look at a slightly more involved example before being more formal."
   ]
  },
  {
   "cell_type": "code",
   "execution_count": 16,
   "metadata": {},
   "outputs": [
    {
     "name": "stdout",
     "output_type": "stream",
     "text": [
      "25 is an odd number\n",
      "25 is not an even number\n",
      "-------------------------\n",
      "25 is a number\n"
     ]
    }
   ],
   "source": [
    "number = 25\n",
    "if number % 2 == 0:\n",
    "    print(f\"{number} is an even number\")\n",
    "    print(f\"{number} is not an odd number\")\n",
    "else:\n",
    "    print(f\"{number} is an odd number\")\n",
    "    print(f\"{number} is not an even number\")\n"
   ]
  },
  {
   "cell_type": "markdown",
   "metadata": {},
   "source": [
    "Okay, lets be a little more formal. We have:\n",
    "\n",
    "```python\n",
    "if (condition):  # note the colon, and the condition should return a True or False\n",
    "    # stuff that is indented\n",
    "    # will only run when \"condition\" is True\n",
    "    # if the condition is False, all this stuff\n",
    "    # is completely ignored\n",
    "    #\n",
    "    # We will call this indented thing a \"block\"\n",
    "else:            # note the colon\n",
    "    # stuff that is indented in this block\n",
    "    # will only run when \"condition\" is False\n",
    "    # if the condition is True, all this stuff is\n",
    "    # completely ignored\n",
    "   \n",
    "# Now we have no indentation any more\n",
    "# This runs regardless of the condition\n",
    "```\n",
    "\n",
    "- A colon indicates that we are about to start a new block\n",
    "- A block continues until we eliminate the indentation\n",
    "\n",
    "**DO NOT RUN THE NEXT CELL**\n",
    "Instead, try to predict what will be printed at the end. It is a silly exercise, but gives us some experience with thinking about `if` statements. Once you have a guess, you can run the cell."
   ]
  },
  {
   "cell_type": "code",
   "execution_count": 17,
   "metadata": {},
   "outputs": [
    {
     "name": "stdout",
     "output_type": "stream",
     "text": [
      "def\n",
      "ijk\n",
      "xyz\n"
     ]
    }
   ],
   "source": [
    "# DO NOT RUN ME\n",
    "\n",
    "test_val = 50\n",
    "\n",
    "if (test_val < 30):\n",
    "    print(\"abc\")\n",
    "else:\n",
    "    print(\"def\")\n",
    "\n",
    "    print(\"ijk\")\n",
    "\n",
    "print(\"xyz\") # \" out of the if else\"\n",
    "\n",
    "## What do you think will get printed out?"
   ]
  },
  {
   "cell_type": "code",
   "execution_count": 19,
   "metadata": {},
   "outputs": [
    {
     "name": "stdout",
     "output_type": "stream",
     "text": [
      "Will this print?\n",
      "1204\n"
     ]
    }
   ],
   "source": [
    "# DO NOT RUN ME\n",
    "\n",
    "the_code = 600\n",
    "\n",
    "if (the_code > 1000):\n",
    "    the_code = the_code - 1000 # \"assigning values using if\"\n",
    "    the_code = the_code + 3\n",
    "else:\n",
    "    the_code = 2*the_code \n",
    "\n",
    "    the_code = the_code + 1\n",
    "    print(\"Will this print?\")\n",
    "\n",
    "the_code = the_code + 3\n",
    "\n",
    "# What gets printed out?\n",
    "# Try and reason your way through rather than just running the cell\n",
    "print(the_code)"
   ]
  },
  {
   "cell_type": "markdown",
   "metadata": {},
   "source": [
    "`If-else` statements can also have more than one condition. **elif**is used for **more than one condition**:"
   ]
  },
  {
   "cell_type": "code",
   "execution_count": 20,
   "metadata": {},
   "outputs": [
    {
     "name": "stdout",
     "output_type": "stream",
     "text": [
      "You are a senior!\n"
     ]
    }
   ],
   "source": [
    "age = 72\n",
    "\n",
    "if age >= 65:\n",
    "    print(\"You are a senior!\")\n",
    "elif age >= 20:\n",
    "    print(\"You are an adult!\")\n",
    "elif age >= 13:\n",
    "    print(\"You are a teenager!\")\n",
    "else:\n",
    "    print(\"You are a child!\")"
   ]
  },
  {
   "cell_type": "markdown",
   "metadata": {},
   "source": [
    "Note that the **order of the statements matter** (see example below). Once the code encounters the **first condition** to that is `True`, it ignores all the remaining conditions."
   ]
  },
  {
   "cell_type": "code",
   "execution_count": 21,
   "metadata": {},
   "outputs": [
    {
     "name": "stdout",
     "output_type": "stream",
     "text": [
      "You are a child!\n"
     ]
    }
   ],
   "source": [
    "age = 72\n",
    "\n",
    "if age >= 0:\n",
    "    print(\"You are a child!\")\n",
    "elif age >= 13:\n",
    "    print(\"You are a teenager!\")\n",
    "elif age >= 20:\n",
    "    print(\"You are an adult!\")\n",
    "else:\n",
    "    print(\"You are a senior!\")\n"
   ]
  },
  {
   "cell_type": "markdown",
   "metadata": {},
   "source": [
    "Here is a potential workaround **through disgoint intervals**"
   ]
  },
  {
   "cell_type": "code",
   "execution_count": 22,
   "metadata": {},
   "outputs": [
    {
     "name": "stdout",
     "output_type": "stream",
     "text": [
      "You are a senior!\n"
     ]
    }
   ],
   "source": [
    "age = 72\n",
    "\n",
    "if age >= 0 and age < 13:\n",
    "    print(\"You are a child!\")\n",
    "elif age >= 13 and age < 20:\n",
    "    print(\"You are a teenager!\")\n",
    "elif age >= 20 and age < 65:\n",
    "    print(\"You are an adult!\")\n",
    "else:\n",
    "    print(\"You are a senior!\")"
   ]
  },
  {
   "cell_type": "markdown",
   "metadata": {},
   "source": [
    "We can also have **_nested_ if** statements. What do you think the following prints out?"
   ]
  },
  {
   "cell_type": "code",
   "execution_count": 23,
   "metadata": {},
   "outputs": [
    {
     "name": "stdout",
     "output_type": "stream",
     "text": [
      "You are a genius and you can vote!\n",
      "It's a sunny day!\n"
     ]
    }
   ],
   "source": [
    "name = \"Einstein\"\n",
    "age = 42\n",
    "voting_age = 18\n",
    "\n",
    "if age > voting_age:\n",
    "    if name == \"Einstein\": # \"passes to this condition if passed previous condition\"\n",
    "        print(\"You are a genius and you can vote!\")\n",
    "    else:\n",
    "        print(\"You are not a genius but you still can vote!\")\n",
    "else:\n",
    "    print(\"Sorry! You cannot vote!\")\n",
    "print(\"It's a sunny day!\") # \"out of the if statment\""
   ]
  },
  {
   "cell_type": "markdown",
   "metadata": {},
   "source": [
    "## Exercise\n",
    "\n",
    "Given `money` and `cost`, print out\n",
    "- \"you can afford it\" if I have enough `money` to buy something that has a price `cost`\n",
    "- \"you cannot afford it\" if I don't have enough money"
   ]
  },
  {
   "cell_type": "code",
   "execution_count": 1,
   "metadata": {},
   "outputs": [
    {
     "name": "stdout",
     "output_type": "stream",
     "text": [
      "you dont have enough money\n"
     ]
    }
   ],
   "source": [
    "## This cell should do the correct thing, even if I change the values\n",
    "## of `money` and `cost`\n",
    "money = 400\n",
    "cost = 410\n",
    "\n",
    "### Write code here\n",
    "if money>=cost:\n",
    "    print(\"you have enough money\")\n",
    "else:\n",
    "    print(\"you dont have enough money\")\n",
    "\n"
   ]
  },
  {
   "cell_type": "markdown",
   "metadata": {},
   "source": [
    "## Create a dictionary that contains the following items: bananas: 3, apples: 2, pears: 5, oranges: 0\n",
    "\n",
    "With the help if statements complete the following:\n",
    "\n",
    "A) If there are 3 or more bananas, print __Three or more bananas__; otherwise, print __Less than three bananas__.\n",
    "\n",
    "B) If there are more than five fruits in total, print __More than five fruits__; otherwise, print __No more than five fruits__\n",
    "\n",
    "C) If there are more than 3 apples, check if there are 2 or more pears and print __True__; otherwise, print __False__"
   ]
  },
  {
   "cell_type": "code",
   "execution_count": 2,
   "metadata": {},
   "outputs": [
    {
     "name": "stdout",
     "output_type": "stream",
     "text": [
      "Three or more bananas\n"
     ]
    }
   ],
   "source": [
    "my_dict = {'bananas':3,'apples':2, 'pears':5, 'oranges':0} # \"same as assigning values\"\n",
    "\n",
    "# A\n",
    "if my_dict['bananas'] >= 3: # \"subset on key to check the value\"\n",
    "    print('Three or more bananas')\n",
    "else:\n",
    "    print('Less than three bananas')"
   ]
  },
  {
   "cell_type": "code",
   "execution_count": 3,
   "metadata": {},
   "outputs": [
    {
     "name": "stdout",
     "output_type": "stream",
     "text": [
      "dict_values([3, 2, 5, 0])\n",
      "More than five fruits\n"
     ]
    }
   ],
   "source": [
    "# B\n",
    "print(my_dict.values())\n",
    "if sum(my_dict.values()) > 5:\n",
    "    print('More than five fruits')\n",
    "else:\n",
    "    print('No more than five fuits')"
   ]
  },
  {
   "cell_type": "code",
   "execution_count": 4,
   "metadata": {},
   "outputs": [
    {
     "name": "stdout",
     "output_type": "stream",
     "text": [
      "False\n"
     ]
    }
   ],
   "source": [
    "# C\n",
    "if my_dict['apples'] > 3:\n",
    "    if my_dict['pears'] >= 2:\n",
    "        print(True)\n",
    "    else:\n",
    "        print(False)\n",
    "else:\n",
    "    print(False)"
   ]
  },
  {
   "cell_type": "markdown",
   "metadata": {},
   "source": [
    "### Truth Value Testing\n",
    "\n",
    "When we write \n",
    "\n",
    "```python\n",
    "x = 'Clark'\n",
    "\n",
    "if (x):\n",
    "    # do stuff\n",
    "```\n",
    "Python will convert `x` to a boolean (bool(x)) behind the scenes (i.e. it will _cast_ `x` to a boolean). Let's have a look at what some different values of `x` get cast to:"
   ]
  },
  {
   "cell_type": "code",
   "execution_count": 28,
   "metadata": {},
   "outputs": [
    {
     "data": {
      "text/plain": [
       "True"
      ]
     },
     "execution_count": 28,
     "metadata": {},
     "output_type": "execute_result"
    }
   ],
   "source": [
    "x=5\n",
    "bool(x) # \" like if x=5 put True else put false\""
   ]
  },
  {
   "cell_type": "code",
   "execution_count": 29,
   "metadata": {},
   "outputs": [
    {
     "data": {
      "text/plain": [
       "True"
      ]
     },
     "execution_count": 29,
     "metadata": {},
     "output_type": "execute_result"
    }
   ],
   "source": [
    "x='Clark'\n",
    "bool(x)"
   ]
  },
  {
   "cell_type": "code",
   "execution_count": 26,
   "metadata": {},
   "outputs": [
    {
     "name": "stdout",
     "output_type": "stream",
     "text": [
      "Casting 5 to a boolean gives True\n",
      "Casting Clark to a boolean gives True\n",
      "Casting 0 to a boolean gives False\n",
      "Casting  to a boolean gives False\n",
      "Casting a to a boolean gives True\n",
      "Casting -1 to a boolean gives True\n",
      "Casting 0.0 to a boolean gives False\n",
      "Casting None to a boolean gives False\n"
     ]
    }
   ],
   "source": [
    "# Lets make the output a little more readable\n",
    "x = 5\n",
    "print(f'Casting {x} to a boolean gives {bool(x)}')\n",
    "\n",
    "x = 'Clark'\n",
    "print(f'Casting {x} to a boolean gives {bool(x)}')\n",
    "\n",
    "x = 0\n",
    "print(f'Casting {x} to a boolean gives {bool(x)}') # \"o correspond to false\"\n",
    "\n",
    "x = ''\n",
    "print(f'Casting {x} to a boolean gives {bool(x)}')\n",
    "\n",
    "x = 'a'\n",
    "print(f'Casting {x} to a boolean gives {bool(x)}')\n",
    "\n",
    "x = -1\n",
    "print(f'Casting {x} to a boolean gives {bool(x)}')\n",
    "\n",
    "x = 0.0\n",
    "print(f'Casting {x} to a boolean gives {bool(x)}') # \"zero correspond to false\"\n",
    "\n",
    "x = None\n",
    "print(f'Casting {x} to a boolean gives {bool(x)}') # \"None correspond to false\"\n"
   ]
  },
  {
   "cell_type": "markdown",
   "metadata": {},
   "source": [
    "Some rules for types we have seen (integers, floats, and strings):\n",
    "- `0` converts to `False`, all other numbers convert to `True`\n",
    "- `''` converts to `False`, all other strings convert to `True`\n",
    "- `None` converts to `False`"
   ]
  },
  {
   "cell_type": "code",
   "execution_count": 27,
   "metadata": {},
   "outputs": [
    {
     "name": "stdout",
     "output_type": "stream",
     "text": [
      "It is considered False\n"
     ]
    }
   ],
   "source": [
    "value = 0 # Here are examples considered False: 0, False, '', None\n",
    "# Here are examples considered True, 1, 42, 33.3, 'a'\n",
    "\n",
    "if value:\n",
    "    print(\"It is considered True\")\n",
    "else:\n",
    "    print(\"It is considered False\") \n"
   ]
  },
  {
   "cell_type": "code",
   "execution_count": null,
   "metadata": {},
   "outputs": [],
   "source": []
  }
 ],
 "metadata": {
  "kernelspec": {
   "display_name": "Python 3 (ipykernel)",
   "language": "python",
   "name": "python3"
  },
  "language_info": {
   "codemirror_mode": {
    "name": "ipython",
    "version": 3
   },
   "file_extension": ".py",
   "mimetype": "text/x-python",
   "name": "python",
   "nbconvert_exporter": "python",
   "pygments_lexer": "ipython3",
   "version": "3.8.11"
  },
  "toc": {
   "base_numbering": 1,
   "nav_menu": {},
   "number_sections": false,
   "sideBar": true,
   "skip_h1_title": false,
   "title_cell": "Table of Contents",
   "title_sidebar": "Contents",
   "toc_cell": false,
   "toc_position": {},
   "toc_section_display": true,
   "toc_window_display": true
  }
 },
 "nbformat": 4,
 "nbformat_minor": 2
}
