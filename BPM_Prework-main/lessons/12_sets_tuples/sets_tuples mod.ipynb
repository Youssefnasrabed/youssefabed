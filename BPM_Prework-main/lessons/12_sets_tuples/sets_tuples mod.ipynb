{
 "cells": [
  {
   "cell_type": "markdown",
   "metadata": {},
   "source": [
    "# Sets and Tuples\n",
    "\n",
    "In this notebook we will: \n",
    "- Learn how to work with `Sets` and `Tuples`"
   ]
  },
  {
   "cell_type": "markdown",
   "metadata": {},
   "source": [
    "### Sets\n",
    "\n",
    "`Sets` are groups of unique and unordered elements.  **Sets** also use curly brackets **{...}** but they should not be confused with `dictionaries`."
   ]
  },
  {
   "cell_type": "code",
   "execution_count": 1,
   "metadata": {},
   "outputs": [
    {
     "data": {
      "text/plain": [
       "{1, 2}"
      ]
     },
     "execution_count": 1,
     "metadata": {},
     "output_type": "execute_result"
    }
   ],
   "source": [
    "my_list = [1, 1, 1, 2, 2, 2]\n",
    "my_set = set(my_list)\n",
    "my_set"
   ]
  },
  {
   "cell_type": "code",
   "execution_count": 2,
   "metadata": {},
   "outputs": [
    {
     "data": {
      "text/plain": [
       "{'a', 'b'}"
      ]
     },
     "execution_count": 2,
     "metadata": {},
     "output_type": "execute_result"
    }
   ],
   "source": [
    "my_string = 'aaabbb'\n",
    "my_set = set(my_string) # \"duplications will be removed\"\n",
    "my_set"
   ]
  },
  {
   "cell_type": "markdown",
   "metadata": {},
   "source": [
    "### _in_ and _not in_ in a Set\n",
    "\n",
    "These operations work the same as how we use them in `lists` and `strings`."
   ]
  },
  {
   "cell_type": "code",
   "execution_count": 3,
   "metadata": {},
   "outputs": [
    {
     "name": "stdout",
     "output_type": "stream",
     "text": [
      "{1, 2, 3}\n"
     ]
    },
    {
     "data": {
      "text/plain": [
       "True"
      ]
     },
     "execution_count": 3,
     "metadata": {},
     "output_type": "execute_result"
    }
   ],
   "source": [
    "my_set = set([1, 2, 2, 3, 3, 3])\n",
    "print(my_set)\n",
    "2 in my_set # \"as in lists and strings\""
   ]
  },
  {
   "cell_type": "code",
   "execution_count": 4,
   "metadata": {},
   "outputs": [
    {
     "name": "stdout",
     "output_type": "stream",
     "text": [
      "{1, 2, 3}\n"
     ]
    },
    {
     "data": {
      "text/plain": [
       "False"
      ]
     },
     "execution_count": 4,
     "metadata": {},
     "output_type": "execute_result"
    }
   ],
   "source": [
    "my_set = set([1, 2, 2, 3, 3, 3])\n",
    "print(my_set)\n",
    "6 in my_set"
   ]
  },
  {
   "cell_type": "markdown",
   "metadata": {},
   "source": [
    "__Note__ that we cannot index the set by index or element. "
   ]
  },
  {
   "cell_type": "code",
   "execution_count": 5,
   "metadata": {},
   "outputs": [
    {
     "name": "stdout",
     "output_type": "stream",
     "text": [
      "{'car', 'airplane'}\n"
     ]
    },
    {
     "ename": "TypeError",
     "evalue": "'set' object is not subscriptable",
     "output_type": "error",
     "traceback": [
      "\u001b[1;31m---------------------------------------------------------------------------\u001b[0m",
      "\u001b[1;31mTypeError\u001b[0m                                 Traceback (most recent call last)",
      "\u001b[1;32m<ipython-input-5-d9fdecb4bb5e>\u001b[0m in \u001b[0;36m<module>\u001b[1;34m\u001b[0m\n\u001b[0;32m      1\u001b[0m \u001b[0mmy_set\u001b[0m \u001b[1;33m=\u001b[0m \u001b[0mset\u001b[0m\u001b[1;33m(\u001b[0m\u001b[1;33m[\u001b[0m\u001b[1;34m\"car\"\u001b[0m\u001b[1;33m,\u001b[0m \u001b[1;34m\"car\"\u001b[0m\u001b[1;33m,\u001b[0m \u001b[1;34m\"airplane\"\u001b[0m\u001b[1;33m]\u001b[0m\u001b[1;33m)\u001b[0m\u001b[1;33m\u001b[0m\u001b[1;33m\u001b[0m\u001b[0m\n\u001b[0;32m      2\u001b[0m \u001b[0mprint\u001b[0m\u001b[1;33m(\u001b[0m\u001b[0mmy_set\u001b[0m\u001b[1;33m)\u001b[0m\u001b[1;33m\u001b[0m\u001b[1;33m\u001b[0m\u001b[0m\n\u001b[1;32m----> 3\u001b[1;33m \u001b[0mmy_set\u001b[0m\u001b[1;33m[\u001b[0m\u001b[1;36m0\u001b[0m\u001b[1;33m]\u001b[0m\u001b[1;33m\u001b[0m\u001b[1;33m\u001b[0m\u001b[0m\n\u001b[0m",
      "\u001b[1;31mTypeError\u001b[0m: 'set' object is not subscriptable"
     ]
    }
   ],
   "source": [
    "my_set = set([\"car\", \"car\", \"airplane\"])\n",
    "print(my_set)\n",
    "my_set[0] # \"cannot index in sets\""
   ]
  },
  {
   "cell_type": "code",
   "execution_count": 6,
   "metadata": {
    "scrolled": true
   },
   "outputs": [
    {
     "name": "stdout",
     "output_type": "stream",
     "text": [
      "{'car', 'airplane'}\n"
     ]
    },
    {
     "ename": "TypeError",
     "evalue": "'set' object is not subscriptable",
     "output_type": "error",
     "traceback": [
      "\u001b[1;31m---------------------------------------------------------------------------\u001b[0m",
      "\u001b[1;31mTypeError\u001b[0m                                 Traceback (most recent call last)",
      "\u001b[1;32m<ipython-input-6-86e5e62d3d97>\u001b[0m in \u001b[0;36m<module>\u001b[1;34m\u001b[0m\n\u001b[0;32m      1\u001b[0m \u001b[0mmy_set\u001b[0m \u001b[1;33m=\u001b[0m \u001b[0mset\u001b[0m\u001b[1;33m(\u001b[0m\u001b[1;33m[\u001b[0m\u001b[1;34m\"car\"\u001b[0m\u001b[1;33m,\u001b[0m \u001b[1;34m\"car\"\u001b[0m\u001b[1;33m,\u001b[0m \u001b[1;34m\"airplane\"\u001b[0m\u001b[1;33m]\u001b[0m\u001b[1;33m)\u001b[0m\u001b[1;33m\u001b[0m\u001b[1;33m\u001b[0m\u001b[0m\n\u001b[0;32m      2\u001b[0m \u001b[0mprint\u001b[0m\u001b[1;33m(\u001b[0m\u001b[0mmy_set\u001b[0m\u001b[1;33m)\u001b[0m\u001b[1;33m\u001b[0m\u001b[1;33m\u001b[0m\u001b[0m\n\u001b[1;32m----> 3\u001b[1;33m \u001b[0mmy_set\u001b[0m\u001b[1;33m[\u001b[0m\u001b[1;34m\"car\"\u001b[0m\u001b[1;33m]\u001b[0m\u001b[1;33m\u001b[0m\u001b[1;33m\u001b[0m\u001b[0m\n\u001b[0m",
      "\u001b[1;31mTypeError\u001b[0m: 'set' object is not subscriptable"
     ]
    }
   ],
   "source": [
    "my_set = set([\"car\", \"car\", \"airplane\"])\n",
    "print(my_set)\n",
    "my_set[\"car\"] # \"cannot index in sets\""
   ]
  },
  {
   "cell_type": "markdown",
   "metadata": {},
   "source": [
    "We can also iterate through a `set`."
   ]
  },
  {
   "cell_type": "code",
   "execution_count": 7,
   "metadata": {},
   "outputs": [
    {
     "name": "stdout",
     "output_type": "stream",
     "text": [
      "{'car', 'airplane'}\n",
      "car\n",
      "airplane\n"
     ]
    }
   ],
   "source": [
    "my_set = set([\"car\", \"car\", \"airplane\"])\n",
    "print(my_set)\n",
    "\n",
    "for val in my_set:\n",
    "    print(val)"
   ]
  },
  {
   "cell_type": "markdown",
   "metadata": {},
   "source": [
    "### Set Operations"
   ]
  },
  {
   "cell_type": "markdown",
   "metadata": {},
   "source": [
    "If we have two sets (`A` and `B`), we can find the:\n",
    "\n",
    "- `A.union(B)` (things that are in A, in B, or both)\n",
    "- `A.intersection(B)` (things that are in A and B)\n",
    "- `A.difference(B)` (things that are in A but not B)"
   ]
  },
  {
   "cell_type": "code",
   "execution_count": 8,
   "metadata": {},
   "outputs": [],
   "source": [
    "A = set([\"a\",\"b\",\"c\"])\n",
    "B = set([\"c\",\"d\",\"e\"])"
   ]
  },
  {
   "cell_type": "code",
   "execution_count": 9,
   "metadata": {},
   "outputs": [
    {
     "data": {
      "text/plain": [
       "['__and__',\n",
       " '__class__',\n",
       " '__contains__',\n",
       " '__delattr__',\n",
       " '__dir__',\n",
       " '__doc__',\n",
       " '__eq__',\n",
       " '__format__',\n",
       " '__ge__',\n",
       " '__getattribute__',\n",
       " '__gt__',\n",
       " '__hash__',\n",
       " '__iand__',\n",
       " '__init__',\n",
       " '__init_subclass__',\n",
       " '__ior__',\n",
       " '__isub__',\n",
       " '__iter__',\n",
       " '__ixor__',\n",
       " '__le__',\n",
       " '__len__',\n",
       " '__lt__',\n",
       " '__ne__',\n",
       " '__new__',\n",
       " '__or__',\n",
       " '__rand__',\n",
       " '__reduce__',\n",
       " '__reduce_ex__',\n",
       " '__repr__',\n",
       " '__ror__',\n",
       " '__rsub__',\n",
       " '__rxor__',\n",
       " '__setattr__',\n",
       " '__sizeof__',\n",
       " '__str__',\n",
       " '__sub__',\n",
       " '__subclasshook__',\n",
       " '__xor__',\n",
       " 'add',\n",
       " 'clear',\n",
       " 'copy',\n",
       " 'difference',\n",
       " 'difference_update',\n",
       " 'discard',\n",
       " 'intersection',\n",
       " 'intersection_update',\n",
       " 'isdisjoint',\n",
       " 'issubset',\n",
       " 'issuperset',\n",
       " 'pop',\n",
       " 'remove',\n",
       " 'symmetric_difference',\n",
       " 'symmetric_difference_update',\n",
       " 'union',\n",
       " 'update']"
      ]
     },
     "execution_count": 9,
     "metadata": {},
     "output_type": "execute_result"
    }
   ],
   "source": [
    "dir(A)"
   ]
  },
  {
   "cell_type": "code",
   "execution_count": 10,
   "metadata": {},
   "outputs": [
    {
     "data": {
      "text/plain": [
       "{'a', 'b', 'c', 'd', 'e'}"
      ]
     },
     "execution_count": 10,
     "metadata": {},
     "output_type": "execute_result"
    }
   ],
   "source": [
    "A.union(B) # elements in A or B"
   ]
  },
  {
   "cell_type": "code",
   "execution_count": 11,
   "metadata": {},
   "outputs": [
    {
     "data": {
      "text/plain": [
       "{'c'}"
      ]
     },
     "execution_count": 11,
     "metadata": {},
     "output_type": "execute_result"
    }
   ],
   "source": [
    "A.intersection(B) # elements in both A and B"
   ]
  },
  {
   "cell_type": "code",
   "execution_count": 12,
   "metadata": {},
   "outputs": [
    {
     "data": {
      "text/plain": [
       "{'a', 'b'}"
      ]
     },
     "execution_count": 12,
     "metadata": {},
     "output_type": "execute_result"
    }
   ],
   "source": [
    "A.difference(B) # returns elements in A by not in B"
   ]
  },
  {
   "cell_type": "markdown",
   "metadata": {},
   "source": [
    "### Exercise\n",
    "\n",
    "**write function if the digits are 4 and unige**.For example the code '1234' should return `True`, but the code '8281' should return `False`. "
   ]
  },
  {
   "cell_type": "code",
   "execution_count": 13,
   "metadata": {},
   "outputs": [],
   "source": [
    "code1 = '1234' # should return True\n",
    "code2 = '8281' # should return False\n",
    "\n",
    "### Write code here\n"
   ]
  },
  {
   "cell_type": "code",
   "execution_count": 14,
   "metadata": {
    "scrolled": true
   },
   "outputs": [
    {
     "name": "stdout",
     "output_type": "stream",
     "text": [
      "Is code 1234 valid? True\n",
      "Is code 8281 valid? False\n"
     ]
    }
   ],
   "source": [
    "code1 = '1234' # should return True\n",
    "code2 = '8281' # should return False\n",
    "\n",
    "def is_code_valid(code):\n",
    "    return len(set(code)) == 4 # \"chect number of uniqe digts equal 4 or not\"\n",
    "\n",
    "print(f\"Is code {code1} valid? {is_code_valid(code1)}\")\n",
    "print(f\"Is code {code2} valid? {is_code_valid(code2)}\")"
   ]
  },
  {
   "cell_type": "markdown",
   "metadata": {},
   "source": [
    "### Exercise:\n",
    "\n",
    "Write a function that receives a string and returns a dictionary that has the count of words as `keys` and the list of the words as the `value`.  \n",
    "\n",
    "For example, the text `This is Super super cool` would return \n",
    "> {1: ['cool', 'is', 'this'], 2: ['super']}\n",
    "\n",
    "__Note__ it must be case insensitive such that `Super` and `super` count as the same word.\n"
   ]
  },
  {
   "cell_type": "code",
   "execution_count": null,
   "metadata": {},
   "outputs": [],
   "source": [
    "text = \"This is Super super cool\"\n",
    "\n",
    "### Write code here"
   ]
  },
  {
   "cell_type": "code",
   "execution_count": 15,
   "metadata": {},
   "outputs": [],
   "source": [
    "### ANSWER\n",
    "text = \"This is Super super cool\"\n",
    "def word_counter(text):\n",
    "    # initialize the dictionary\n",
    "    count_2_word = {} # \"create empty dictionary\"\n",
    "    \n",
    "    # handles the case sensitive by making it all lower case\n",
    "    # and then splits the text into a list separated by the space\n",
    "    # notice that we can do chaining\n",
    "    word_list = text.lower().split() # \"transform all letters to lower case to handel case sensetivity, then split by space\"\n",
    "    \n",
    "    unique_words = set(word_list) # \"this set includes uinqe words\"\n",
    "    \n",
    "    for word in unique_words: # \"for each element (word) in uniqe_words\"        \n",
    "        if word_list.count(word) not in count_2_word: # \"if the key (world_list.count(word)) is not saved before\"\n",
    "            count_2_word[word_list.count(word)] = [] \n",
    "        count_2_word[word_list.count(word)].append(word) # \"note this is out of the if, then the first word will be saved as value and the key is word_list.count(word)\"\n",
    "        \n",
    "    return count_2_word"
   ]
  },
  {
   "cell_type": "code",
   "execution_count": 16,
   "metadata": {},
   "outputs": [
    {
     "name": "stdout",
     "output_type": "stream",
     "text": [
      "{2: ['super'], 1: ['cool', 'is', 'this']}\n"
     ]
    }
   ],
   "source": [
    "print(word_counter(text))"
   ]
  },
  {
   "cell_type": "code",
   "execution_count": 17,
   "metadata": {},
   "outputs": [
    {
     "data": {
      "text/plain": [
       "{1: ['darkness,',\n",
       "  'period,',\n",
       "  'only.',\n",
       "  'evil,',\n",
       "  'nothing',\n",
       "  'on',\n",
       "  'noisiest',\n",
       "  'comparison',\n",
       "  'worst',\n",
       "  'like',\n",
       "  'belief,',\n",
       "  'some',\n",
       "  'in',\n",
       "  'to',\n",
       "  'far',\n",
       "  'present',\n",
       "  'or',\n",
       "  'hope,',\n",
       "  'degree',\n",
       "  'heaven,',\n",
       "  'short,',\n",
       "  'so',\n",
       "  'best',\n",
       "  'period',\n",
       "  'spring',\n",
       "  'good',\n",
       "  'way—in',\n",
       "  'being',\n",
       "  'everything',\n",
       "  'received,',\n",
       "  'winter',\n",
       "  'that',\n",
       "  'superlative',\n",
       "  'despair,',\n",
       "  'other',\n",
       "  'authorities',\n",
       "  'wisdom,',\n",
       "  'insisted',\n",
       "  'light,',\n",
       "  'foolishness,',\n",
       "  'incredulity,'],\n",
       " 10: ['it'],\n",
       " 2: ['season',\n",
       "  'going',\n",
       "  'before',\n",
       "  'were',\n",
       "  'its',\n",
       "  'epoch',\n",
       "  'for',\n",
       "  'us,',\n",
       "  'all',\n",
       "  'times,',\n",
       "  'had',\n",
       "  'direct',\n",
       "  'age'],\n",
       " 12: ['of'],\n",
       " 14: ['the'],\n",
       " 4: ['we'],\n",
       " 11: ['was']}"
      ]
     },
     "execution_count": 17,
     "metadata": {},
     "output_type": "execute_result"
    }
   ],
   "source": [
    "# In Dicken's day, authors were paid by the word\n",
    "#\n",
    "text = \"\"\"\n",
    "It was the best of times, it was the worst of times, it was the age of wisdom, it was the age of foolishness, \n",
    "it was the epoch of belief, it was the epoch of incredulity, it was the season of Light, it was the season of \n",
    "Darkness, it was the spring of hope, it was the winter of despair, we had everything before us, we had nothing \n",
    "before us, we were all going direct to Heaven, we were all going direct the other way—in short, the period was \n",
    "so far like the present period, that some of its noisiest authorities insisted on its being received, for good \n",
    "or for evil, in the superlative degree of comparison only.\n",
    "\"\"\"\n",
    "\n",
    "res = word_counter(text) # \"function for word count\"\n",
    "res"
   ]
  },
  {
   "cell_type": "markdown",
   "metadata": {},
   "source": [
    "To find out what was the most common word we can do the following:"
   ]
  },
  {
   "cell_type": "code",
   "execution_count": 18,
   "metadata": {},
   "outputs": [
    {
     "data": {
      "text/plain": [
       "['the']"
      ]
     },
     "execution_count": 18,
     "metadata": {},
     "output_type": "execute_result"
    }
   ],
   "source": [
    "res[max(res.keys())] # \"subset on the maximum keys, this returns value\""
   ]
  },
  {
   "cell_type": "markdown",
   "metadata": {},
   "source": [
    "Or if we want the 3 least common numbers used:"
   ]
  },
  {
   "cell_type": "code",
   "execution_count": 19,
   "metadata": {},
   "outputs": [
    {
     "name": "stdout",
     "output_type": "stream",
     "text": [
      "1 : ['darkness,', 'period,', 'only.', 'evil,', 'nothing', 'on', 'noisiest', 'comparison', 'worst', 'like', 'belief,', 'some', 'in', 'to', 'far', 'present', 'or', 'hope,', 'degree', 'heaven,', 'short,', 'so', 'best', 'period', 'spring', 'good', 'way—in', 'being', 'everything', 'received,', 'winter', 'that', 'superlative', 'despair,', 'other', 'authorities', 'wisdom,', 'insisted', 'light,', 'foolishness,', 'incredulity,']\n",
      "2 : ['season', 'going', 'before', 'were', 'its', 'epoch', 'for', 'us,', 'all', 'times,', 'had', 'direct', 'age']\n",
      "4 : ['we']\n"
     ]
    }
   ],
   "source": [
    "top_keys = sorted(res.keys())[0:3]\n",
    "for key in top_keys: # \"here we select the key from top_key\"\n",
    "    print(f\"{key} : {res[key]}\")"
   ]
  },
  {
   "cell_type": "markdown",
   "metadata": {},
   "source": [
    "### Tuples\n",
    "\n",
    "We won't spend a lot of time on tuples, because they are _very_ similar to `lists`. \n",
    "- they can hold any data type\n",
    "- they are arbitrary length\n",
    "- they are indexed (0, 1, 2, ..., length_of_tuple - 1)\n",
    "- they use parenthesis `(...)`\n",
    "The biggest difference are that tuples are immutable (cannot be modified)"
   ]
  },
  {
   "cell_type": "code",
   "execution_count": 20,
   "metadata": {},
   "outputs": [],
   "source": [
    "list_of_people = ['Albert Einstein', 'Marie Curie', 'Ada Lovelace'] # square brackets for lists\n",
    "tuple_of_people = ('Albert Einstein', 'Marie Curie', 'Ada Lovelace') # parenthesis for tuples"
   ]
  },
  {
   "cell_type": "code",
   "execution_count": 21,
   "metadata": {},
   "outputs": [
    {
     "data": {
      "text/plain": [
       "['Albert Einstein', 'Marie Curie', 'Ada Lovelace']"
      ]
     },
     "execution_count": 21,
     "metadata": {},
     "output_type": "execute_result"
    }
   ],
   "source": [
    "list_of_people"
   ]
  },
  {
   "cell_type": "code",
   "execution_count": 22,
   "metadata": {},
   "outputs": [
    {
     "data": {
      "text/plain": [
       "('Albert Einstein', 'Marie Curie', 'Ada Lovelace')"
      ]
     },
     "execution_count": 22,
     "metadata": {},
     "output_type": "execute_result"
    }
   ],
   "source": [
    "tuple_of_people"
   ]
  },
  {
   "cell_type": "code",
   "execution_count": 23,
   "metadata": {},
   "outputs": [
    {
     "data": {
      "text/plain": [
       "['Emmy Noether', 'Marie Curie', 'Ada Lovelace']"
      ]
     },
     "execution_count": 23,
     "metadata": {},
     "output_type": "execute_result"
    }
   ],
   "source": [
    "list_of_people[0] = 'Emmy Noether'\n",
    "list_of_people"
   ]
  },
  {
   "cell_type": "code",
   "execution_count": 24,
   "metadata": {
    "scrolled": true
   },
   "outputs": [
    {
     "ename": "TypeError",
     "evalue": "'tuple' object does not support item assignment",
     "output_type": "error",
     "traceback": [
      "\u001b[1;31m---------------------------------------------------------------------------\u001b[0m",
      "\u001b[1;31mTypeError\u001b[0m                                 Traceback (most recent call last)",
      "\u001b[1;32m<ipython-input-24-e5a4188c55cd>\u001b[0m in \u001b[0;36m<module>\u001b[1;34m\u001b[0m\n\u001b[1;32m----> 1\u001b[1;33m \u001b[0mtuple_of_people\u001b[0m\u001b[1;33m[\u001b[0m\u001b[1;36m0\u001b[0m\u001b[1;33m]\u001b[0m \u001b[1;33m=\u001b[0m \u001b[1;34m'Emmy Noether'\u001b[0m\u001b[1;33m\u001b[0m\u001b[1;33m\u001b[0m\u001b[0m\n\u001b[0m",
      "\u001b[1;31mTypeError\u001b[0m: 'tuple' object does not support item assignment"
     ]
    }
   ],
   "source": [
    "tuple_of_people[0] = 'Emmy Noether' # \"change tupple\""
   ]
  },
  {
   "cell_type": "markdown",
   "metadata": {},
   "source": [
    "We can do similar operations as in `lists`"
   ]
  },
  {
   "cell_type": "code",
   "execution_count": 25,
   "metadata": {},
   "outputs": [
    {
     "data": {
      "text/plain": [
       "'Marie Curie'"
      ]
     },
     "execution_count": 25,
     "metadata": {},
     "output_type": "execute_result"
    }
   ],
   "source": [
    "tuple_of_people[1]"
   ]
  },
  {
   "cell_type": "code",
   "execution_count": 26,
   "metadata": {},
   "outputs": [
    {
     "data": {
      "text/plain": [
       "('Marie Curie', 'Ada Lovelace')"
      ]
     },
     "execution_count": 26,
     "metadata": {},
     "output_type": "execute_result"
    }
   ],
   "source": [
    "tuple_of_people[1:]"
   ]
  },
  {
   "cell_type": "code",
   "execution_count": 27,
   "metadata": {},
   "outputs": [
    {
     "data": {
      "text/plain": [
       "3"
      ]
     },
     "execution_count": 27,
     "metadata": {},
     "output_type": "execute_result"
    }
   ],
   "source": [
    "len(tuple_of_people)"
   ]
  },
  {
   "cell_type": "markdown",
   "metadata": {},
   "source": [
    "`Tuples` contains data that you __do not__ wish to modify (i.e. a birthdate), while `lists` will contain data that may be modified (i.e. age)."
   ]
  }
 ],
 "metadata": {
  "kernelspec": {
   "display_name": "Python 3",
   "language": "python",
   "name": "python3"
  },
  "language_info": {
   "codemirror_mode": {
    "name": "ipython",
    "version": 3
   },
   "file_extension": ".py",
   "mimetype": "text/x-python",
   "name": "python",
   "nbconvert_exporter": "python",
   "pygments_lexer": "ipython3",
   "version": "3.7.6"
  },
  "toc": {
   "base_numbering": 1,
   "nav_menu": {},
   "number_sections": false,
   "sideBar": true,
   "skip_h1_title": false,
   "title_cell": "Table of Contents",
   "title_sidebar": "Contents",
   "toc_cell": false,
   "toc_position": {},
   "toc_section_display": true,
   "toc_window_display": true
  }
 },
 "nbformat": 4,
 "nbformat_minor": 2
}
