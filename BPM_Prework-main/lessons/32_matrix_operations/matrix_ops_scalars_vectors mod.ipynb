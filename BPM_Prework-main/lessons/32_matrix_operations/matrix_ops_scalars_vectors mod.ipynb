{
 "cells": [
  {
   "cell_type": "markdown",
   "metadata": {},
   "source": [
    "# Matrix Operations with Scalars and Vectors"
   ]
  },
  {
   "cell_type": "markdown",
   "metadata": {},
   "source": [
    "__Purpose:__ The purpose of this lecture is to expand our Linear Algebra knowledge to work with matrices and perform matrix operations with scalars and vectors.  \n",
    "\n",
    "__At the end of this lecture you will be able to:__\n",
    "> 1. Understand matrix operations with scalars\n",
    "> 2. Understand matrix operations with vectors"
   ]
  },
  {
   "cell_type": "markdown",
   "metadata": {},
   "source": [
    "### 1.1.1 Mathematical Operations with Matrices and Scalars"
   ]
  },
  {
   "cell_type": "markdown",
   "metadata": {},
   "source": [
    "__Overview:__\n",
    "- Addition and multiplication of a matrix by a scalar is very straightforward:\n",
    "> 1. __Addition:__ When adding a scalar to the matrix, each element is added by the scalar value - this operation is performed on an \"element-by-element\" fashion: $\\alpha + \\pmb A$ = $\\alpha + [\\pmb A_{i,j}]$\n",
    "> 2. __Multiplication:__ When multiplying a scalar to the matrix, each element is multiplied by the scalar value - this operation is performed on an \"element-by-element\" fashion: $\\alpha \\pmb A$ = $\\alpha*[\\pmb A_{i,j}]$\n",
    "\n",
    "__Helpful Points:__\n",
    "1. Matrices act the same as vectors do when they are multiplied by and added with scalars (that is, the scalar is applied on an element-by-element basis) \n",
    "\n",
    "__Practice:__ Examples of Mathematical Operations with Matrices and Scalars in Python "
   ]
  },
  {
   "cell_type": "code",
   "execution_count": 1,
   "metadata": {},
   "outputs": [],
   "source": [
    "import numpy as np \n",
    "from scipy import linalg \n",
    "import matplotlib.pyplot as plt\n",
    "from mpl_toolkits.mplot3d import axes3d\n",
    "%matplotlib inline "
   ]
  },
  {
   "cell_type": "markdown",
   "metadata": {},
   "source": [
    "### Example 1 (Addition):"
   ]
  },
  {
   "cell_type": "code",
   "execution_count": 2,
   "metadata": {},
   "outputs": [
    {
     "name": "stdout",
     "output_type": "stream",
     "text": [
      "[[1 1 2]\n",
      " [4 5 6]]\n"
     ]
    }
   ],
   "source": [
    "alpha = 2\n",
    "mat = np.array([[1,1,2],[4,5,6]])\n",
    "print(mat)"
   ]
  },
  {
   "cell_type": "code",
   "execution_count": 3,
   "metadata": {},
   "outputs": [
    {
     "name": "stdout",
     "output_type": "stream",
     "text": [
      "[[3 3 4]\n",
      " [6 7 8]]\n"
     ]
    }
   ],
   "source": [
    "mat_addition = alpha + mat\n",
    "print(mat_addition)"
   ]
  },
  {
   "cell_type": "markdown",
   "metadata": {},
   "source": [
    "### Example 2 (Multiplication):"
   ]
  },
  {
   "cell_type": "code",
   "execution_count": 4,
   "metadata": {},
   "outputs": [
    {
     "name": "stdout",
     "output_type": "stream",
     "text": [
      "[[ 2  2  4]\n",
      " [ 8 10 12]]\n"
     ]
    }
   ],
   "source": [
    "mat_multiplication = alpha * mat\n",
    "print(mat_multiplication)"
   ]
  },
  {
   "cell_type": "markdown",
   "metadata": {},
   "source": [
    "### 1.1.2 Mathematical Operations with Matrices and Vectors "
   ]
  },
  {
   "cell_type": "markdown",
   "metadata": {},
   "source": [
    "__Overview:__\n",
    "- It is also possible to add and multiply a matrix by a vector:\n",
    "> 1. __Addition:__ If $\\pmb A$ is an $m$ $x$ $n$ matrix and $\\pmb u$ is a vector, then to add the vector to the matrix, simply add the vector to each row of the matrix. \n",
    "<center> $\\pmb C_{ij} = \\pmb A_{ij} + b_j$ </center>\n",
    "\n",
    "> 2. __Multiplication:__ If $\\pmb A$ is an $m$ $x$ $n$ matrix with columns $\\pmb A_1$, $\\pmb A_2$, $\\pmb A_3$, ...,  $\\pmb A_n$ and $\\pmb u$ is a vector of size n, then the matrix-vector product is simply a linear combination of the elements in $\\pmb u$ with the columns in $\\pmb A$:\n",
    "\n",
    "\\begin{equation}\n",
    "\\begin{bmatrix}\n",
    "    A_{11}       & A_{12} & A_{13} & \\dots & A_{1n} \\\\\n",
    "    A_{21}       & A_{22} & A_{23} & \\dots & A_{2n} \\\\\n",
    "    \\vdots & \\vdots & \\vdots & \\ddots & \\vdots \\\\\n",
    "    A_{m1}       & A_{m2} & A_{m3} & \\dots & A_{mn}\n",
    "\\end{bmatrix}\n",
    "\\begin{bmatrix}\n",
    "    u_1 \\\\\n",
    "    u_2 \\\\\n",
    "    u_3 \\\\\n",
    "    \\vdots \\\\\n",
    "    u_n\n",
    "\\end{bmatrix}\n",
    "=\n",
    "\\begin{bmatrix}\n",
    "    A_{11}u_1 + A_{12}u_2 + A_{13}u_3 + \\dots + A_{1n}u_n \\\\\n",
    "    A_{21}u_1 + A_{22}u_2 + A_{23}u_3 + \\dots + A_{2n}u_n \\\\\n",
    "    \\vdots \\\\\n",
    "    A_{m1}u_1 + A_{m2}u_2 + A_{m3}u_3 + \\dots + A_{mn}u_n \\\\\n",
    "\\end{bmatrix}\n",
    "\\end{equation}\n",
    "\n",
    "\\begin{equation}\n",
    "\\begin{bmatrix}\n",
    "    \\pmb A_1 & \\pmb A_2 & \\pmb A_3 & \\dots & \\pmb A_n\n",
    "\\end{bmatrix}\n",
    "\\begin{bmatrix}\n",
    "    u_1 \\\\\n",
    "    u_2 \\\\\n",
    "    u_3 \\\\\n",
    "    \\vdots \\\\\n",
    "    u_n\n",
    "\\end{bmatrix}\n",
    "=\n",
    "\\begin{bmatrix}\n",
    "    u_1\\pmb A_1 + u_2\\pmb A_2 + u_3\\pmb A_3 + \\dots + u_n\\pmb A_n\n",
    "\\end{bmatrix}\n",
    "\\end{equation}\n",
    "\n",
    "<center>$\\pmb A \\pmb u = u_1 \\pmb A_1 + u_2 \\pmb A_2 + u_3 \\pmb A_3 + ... + u_n \\pmb A_n$</center>\n",
    "    \n",
    "__Helpful Points:__\n",
    "1. The most important rule to follow when adding or multiplying a matrix by a vector is to remember that the vector must have the same number of elements (`n`) as there are columns in the matrix, otherwise you can't add or multiply that vector \n",
    "2. The result of a matrix-vector product is a vector \n",
    "3. Recall linear combination definition \n",
    "\n",
    "__Practice:__ Examples of Matrix-Vector Product in Python "
   ]
  },
  {
   "cell_type": "markdown",
   "metadata": {},
   "source": [
    "### Example 1 (Addition):"
   ]
  },
  {
   "cell_type": "markdown",
   "metadata": {},
   "source": [
    "### Example 1.1 (Broadcastable Arrays):"
   ]
  },
  {
   "cell_type": "code",
   "execution_count": 5,
   "metadata": {},
   "outputs": [
    {
     "name": "stdout",
     "output_type": "stream",
     "text": [
      "[1 2 3]\n",
      "[[0 1 0]\n",
      " [2 2 1]\n",
      " [3 3 3]]\n"
     ]
    }
   ],
   "source": [
    "my_vector = np.array([1,2,3])\n",
    "print(my_vector)\n",
    "my_matrix = np.array([[0,1,0], [2,2,1], [3,3,3]])\n",
    "print(my_matrix)"
   ]
  },
  {
   "cell_type": "code",
   "execution_count": 6,
   "metadata": {},
   "outputs": [
    {
     "data": {
      "text/plain": [
       "(3,)"
      ]
     },
     "execution_count": 6,
     "metadata": {},
     "output_type": "execute_result"
    }
   ],
   "source": [
    "my_vector.shape"
   ]
  },
  {
   "cell_type": "code",
   "execution_count": 7,
   "metadata": {},
   "outputs": [
    {
     "data": {
      "text/plain": [
       "(3, 3)"
      ]
     },
     "execution_count": 7,
     "metadata": {},
     "output_type": "execute_result"
    }
   ],
   "source": [
    "my_matrix.shape"
   ]
  },
  {
   "cell_type": "code",
   "execution_count": 8,
   "metadata": {
    "scrolled": true
   },
   "outputs": [
    {
     "data": {
      "text/plain": [
       "array([[1, 3, 3],\n",
       "       [3, 4, 4],\n",
       "       [4, 5, 6]])"
      ]
     },
     "execution_count": 8,
     "metadata": {},
     "output_type": "execute_result"
    }
   ],
   "source": [
    "my_vector + my_matrix # \"added vector to a matrix !\""
   ]
  },
  {
   "cell_type": "markdown",
   "metadata": {},
   "source": [
    "According to the broadcasting rules, the vector is first prepended with 1s such that the shape is the same as the matrix - (1,3) and (3,3). Then moving from right to left, the rules dictate that the resulting object will have the length equal to the larger of the two lengths, thus the resulting shape is (3,3)."
   ]
  },
  {
   "cell_type": "markdown",
   "metadata": {},
   "source": [
    "### Example 1.2 (Non-Broadcastable Arrays):"
   ]
  },
  {
   "cell_type": "code",
   "execution_count": 10,
   "metadata": {},
   "outputs": [
    {
     "name": "stdout",
     "output_type": "stream",
     "text": [
      "[1 2]\n",
      "[[0 1 0]\n",
      " [2 2 1]\n",
      " [3 3 3]]\n"
     ]
    }
   ],
   "source": [
    "my_vector = np.array([1,2])\n",
    "print(my_vector)\n",
    "my_matrix = np.array([[0,1,0], [2,2,1], [3,3,3]])\n",
    "print(my_matrix)"
   ]
  },
  {
   "cell_type": "code",
   "execution_count": 11,
   "metadata": {},
   "outputs": [
    {
     "data": {
      "text/plain": [
       "(2,)"
      ]
     },
     "execution_count": 11,
     "metadata": {},
     "output_type": "execute_result"
    }
   ],
   "source": [
    "my_vector.shape"
   ]
  },
  {
   "cell_type": "code",
   "execution_count": 13,
   "metadata": {},
   "outputs": [
    {
     "data": {
      "text/plain": [
       "(3, 3)"
      ]
     },
     "execution_count": 13,
     "metadata": {},
     "output_type": "execute_result"
    }
   ],
   "source": [
    "my_matrix.shape"
   ]
  },
  {
   "cell_type": "code",
   "execution_count": 14,
   "metadata": {
    "scrolled": true
   },
   "outputs": [
    {
     "ename": "ValueError",
     "evalue": "operands could not be broadcast together with shapes (2,) (3,3) ",
     "output_type": "error",
     "traceback": [
      "\u001b[1;31m---------------------------------------------------------------------------\u001b[0m",
      "\u001b[1;31mValueError\u001b[0m                                Traceback (most recent call last)",
      "\u001b[1;32m<ipython-input-14-88803bc93644>\u001b[0m in \u001b[0;36m<module>\u001b[1;34m\u001b[0m\n\u001b[1;32m----> 1\u001b[1;33m \u001b[0mmy_vector\u001b[0m \u001b[1;33m+\u001b[0m \u001b[0mmy_matrix\u001b[0m\u001b[1;33m\u001b[0m\u001b[1;33m\u001b[0m\u001b[0m\n\u001b[0m",
      "\u001b[1;31mValueError\u001b[0m: operands could not be broadcast together with shapes (2,) (3,3) "
     ]
    }
   ],
   "source": [
    "my_vector + my_matrix # \"cannot add because of dimensions\""
   ]
  },
  {
   "cell_type": "markdown",
   "metadata": {},
   "source": [
    "According to the broadcasting rules, the vector is first prepended with 1s such that the shape is the same as the matrix - (1,2) and (3,3). Then moving from right to left, the rules dictate that \"2\" and \"3\" can not be reconciled, since they have to be the either the same or one of the two has to be a \"1\". "
   ]
  },
  {
   "cell_type": "markdown",
   "metadata": {},
   "source": [
    "### Example 2 (Multiplication):"
   ]
  },
  {
   "cell_type": "code",
   "execution_count": 15,
   "metadata": {
    "scrolled": true
   },
   "outputs": [
    {
     "name": "stdout",
     "output_type": "stream",
     "text": [
      "[1 2 3]\n",
      "[[0 1 0]\n",
      " [2 2 1]\n",
      " [3 3 3]]\n"
     ]
    }
   ],
   "source": [
    "my_vector = np.array([1,2,3])\n",
    "print(my_vector)\n",
    "my_matrix = np.array([[0,1,0], [2,2,1], [3,3,3]])\n",
    "print(my_matrix)"
   ]
  },
  {
   "cell_type": "markdown",
   "metadata": {},
   "source": [
    "### Example 2.1 (Method 1 - With Dot Function):"
   ]
  },
  {
   "cell_type": "code",
   "execution_count": 16,
   "metadata": {},
   "outputs": [
    {
     "data": {
      "text/plain": [
       "array([ 2,  9, 18])"
      ]
     },
     "execution_count": 16,
     "metadata": {},
     "output_type": "execute_result"
    }
   ],
   "source": [
    "np.dot(my_matrix,my_vector) # \"firt element is 0*1+1*2+0*3\""
   ]
  },
  {
   "cell_type": "markdown",
   "metadata": {},
   "source": [
    "### Problem 1 \n",
    "\n",
    "Create a vector $\\pmb u = [1,1,0]$ and a matrix \n",
    "\n",
    "\\begin{equation}\n",
    "\\pmb A = \n",
    "\\begin{bmatrix}\n",
    "    1 & 2 & 4\\\\\n",
    "    2 & 0 & 1\\\\\n",
    "\\end{bmatrix}\n",
    "\\end{equation}\n",
    "\n",
    "Perform vector-matrix multiplication using manual calculation on pencil and paper and also using the dot product function. **Find A.u**"
   ]
  },
  {
   "cell_type": "code",
   "execution_count": null,
   "metadata": {},
   "outputs": [],
   "source": [
    "# write your code here \n",
    "\n",
    "\n",
    "\n"
   ]
  },
  {
   "cell_type": "markdown",
   "metadata": {},
   "source": [
    "### SOLUTION"
   ]
  },
  {
   "cell_type": "markdown",
   "metadata": {},
   "source": [
    "### Problem 1 \n",
    "\n",
    "Create a vector $\\pmb u = [1,1,0]$ and a matrix \n",
    "\n",
    "\\begin{equation}\n",
    "\\pmb A = \n",
    "\\begin{bmatrix}\n",
    "    1 & 2 & 4\\\\\n",
    "    2 & 0 & 1\\\\\n",
    "\\end{bmatrix}\n",
    "\\end{equation}\n",
    "\n",
    "Perform vector-matrix multiplication using manual calculation on pencil and paper and also using the dot product function."
   ]
  },
  {
   "cell_type": "code",
   "execution_count": null,
   "metadata": {},
   "outputs": [],
   "source": [
    "u = np.array([1,1,0])\n",
    "A = np.array([[1,2,4],[2,0,1]])\n",
    "print(u)\n",
    "print(A)"
   ]
  },
  {
   "cell_type": "code",
   "execution_count": null,
   "metadata": {},
   "outputs": [],
   "source": [
    "np.dot(A,u)"
   ]
  },
  {
   "cell_type": "code",
   "execution_count": null,
   "metadata": {},
   "outputs": [],
   "source": []
  }
 ],
 "metadata": {
  "kernelspec": {
   "display_name": "Python 3",
   "language": "python",
   "name": "python3"
  },
  "language_info": {
   "codemirror_mode": {
    "name": "ipython",
    "version": 3
   },
   "file_extension": ".py",
   "mimetype": "text/x-python",
   "name": "python",
   "nbconvert_exporter": "python",
   "pygments_lexer": "ipython3",
   "version": "3.7.6"
  },
  "toc": {
   "base_numbering": 1,
   "nav_menu": {},
   "number_sections": false,
   "sideBar": true,
   "skip_h1_title": false,
   "title_cell": "Table of Contents",
   "title_sidebar": "Contents",
   "toc_cell": false,
   "toc_position": {},
   "toc_section_display": true,
   "toc_window_display": true
  }
 },
 "nbformat": 4,
 "nbformat_minor": 2
}
