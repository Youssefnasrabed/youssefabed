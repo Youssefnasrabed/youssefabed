{
 "cells": [
  {
   "cell_type": "markdown",
   "metadata": {},
   "source": [
    "# Sample and Population"
   ]
  },
  {
   "cell_type": "markdown",
   "metadata": {},
   "source": [
    "__Purpose:__ The purpose of this lecture is to compare sample vs. populations. \n",
    "\n",
    "__At the end of this lecture you will be able to:__\n",
    "> 1. Understand the differences between working with samples and populations "
   ]
  },
  {
   "cell_type": "code",
   "execution_count": 1,
   "metadata": {},
   "outputs": [],
   "source": [
    "import numpy as np\n",
    "import pandas as pd\n",
    "from scipy import stats\n",
    "import seaborn as sns\n",
    "import math \n",
    "import random\n",
    "import matplotlib.pyplot as plt\n",
    "%matplotlib inline"
   ]
  },
  {
   "cell_type": "markdown",
   "metadata": {},
   "source": [
    "## 1.1 Sample vs. Population"
   ]
  },
  {
   "cell_type": "markdown",
   "metadata": {},
   "source": [
    "### 1.1.1 What is a Sample and Population? "
   ]
  },
  {
   "cell_type": "markdown",
   "metadata": {},
   "source": [
    "__Overview:__ \n",
    "- It is important to differentiate between a Sample and Population in Statistical Analysis and also understand which of the two you are working with \n",
    "- __[Population](https://en.wikipedia.org/wiki/Statistical_population):__ Population refers to the complete set of observations/items/events that are of interest in an experiment\n",
    "> - A researcher may be interested in a statistic regarding the population (for example, the mean of the population)\n",
    "> - The population is defined by the researcher of the experiment ahead of time and is defined in a convenient fashion for their purposes \n",
    "> - Typically, the population is too large to study, thus warranting a smaller study that will allow the researcher to make inferences about the population \n",
    "> - The statistic of interest in the population is called a __Population Parameter__ (i.e. the Population Mean is represented as $\\mu$ and is usually Greek letters)\n",
    "- __[Sample](https://en.wikipedia.org/wiki/Sample_(statistics)):__ Sample refers to a subset of data that is collected from a population \n",
    "> - The purpose of the sample is to make inferences about the population, thus a sample must be chosen in a way that is representative of the population \n",
    "> - The statistic of interest in the population is called a __Sample Statistic__ (i.e. the Sample Mean is represented as $\\bar x$)\n",
    "\n",
    "__Helpful Points:__\n",
    "1. There is an entire field of Statistical Analysis that deals with methods of creating a representative sample, but this is beyond the scope of this course \n",
    "2. A key part of Inferential Statistics is estimating how far Sample Statistics may vary from Population Parameters \n",
    "\n",
    "__Practice:__ Examples of Samples and Populations"
   ]
  },
  {
   "cell_type": "markdown",
   "metadata": {},
   "source": [
    "### Problem 1:\n",
    "\n",
    "The Executive Director at Metis is interested in learning how likely the students of this course from this cohort are to recommend the course to a friend. To measure this, the Executive Director provides a survey to the students and asks them how likely they are to recommend the course. 15 of 30 students answer the survey. Based on the answers of the 15 students who completed the survey, the Executive Director will make his conclusion. What is the Sample and what is the Population?"
   ]
  },
  {
   "cell_type": "markdown",
   "metadata": {},
   "source": [
    "__Option A:__ Population = all students who have taken this course at Metis from all cohorts. Sample = all students from this course and cohort."
   ]
  },
  {
   "cell_type": "markdown",
   "metadata": {},
   "source": [
    "__Option B:__ Population = all students who have taken any course from Metis from all cohorts. Sample = all students of this course from all cohorts."
   ]
  },
  {
   "cell_type": "markdown",
   "metadata": {},
   "source": [
    "__Option C:__ Population = all students from this course and cohort. Sample = 15 students from this course and cohort who answered the survey"
   ]
  },
  {
   "cell_type": "code",
   "execution_count": null,
   "metadata": {},
   "outputs": [],
   "source": [
    "# write your answer here \n",
    "\n",
    "\n",
    "\n"
   ]
  },
  {
   "cell_type": "markdown",
   "metadata": {},
   "source": [
    "### 1.1.2 Sampling Distributions:"
   ]
  },
  {
   "cell_type": "markdown",
   "metadata": {},
   "source": [
    "__Overview:__ \n",
    "- __[Sampling Distribution](https://en.wikipedia.org/wiki/Sampling_distribution):__ Sampling Distribution is the Probability Distribution of a given statistic that is developed from repeatedly sampling from a population and recording the statistic of interest \n",
    "> - It is possible to have a Sampling Distribution for any statistic that we are interested in \n",
    "> - Sampling Distribution is developed in the following way: \n",
    ">> __Step 1:__ Decide on a statistic of the population you are interested in (for example, the population mean) <br> \n",
    ">> __Step 2:__ Sample n observations from the population and calculate the sample statistic (sample mean, in this case) of this sample of size n. Record this sample statistic <br>\n",
    ">> __Step 3:__ Continue executing step 2 for a large number of iterations (i.e. 10,000), which means we have 10,000 samples of size n which corresponds to 10,000 sample means <br>\n",
    ">> __Step 4:__ Plot the Probability Distribution of the 10,000 sample means and this becomes the Sampling Distribution of the Sample Mean \n",
    "\n",
    "__Helpful Points:__\n",
    "1. The example above was for the Sampling Distribution of the Sample Mean, but any statistic can be calculated for each sample. For example, the Sampling Distribution of the Sample Range, Median, etc. \n",
    "2. It is helpful to specify some terminology: \n",
    "> __Estimand:__ The Estimand is the statistic we are interested in (i.e. the mean) <br> \n",
    "> __Estimate:__ The Estimate is the sample statistic we calculate for every given sample (this is a number) <br> \n",
    "> __Estimator:__ The Estimator is the Random Variable that is described by the Probability Distribution known as the Sampling Distribution. Therefore, each Estimate (sample statistic calculated for 10,000 samples) are realizations of this Random Variable \n",
    "3. The Probability Distribution called the Sampling Distribution also has parameters that define its distribution. The two parameters are the mean and standard deviation (known as the __Standard Error__). When the statistic is the sample mean, we call it the __Standard Error of the Mean__ and the formula is $\\sigma_{\\bar x} = \\frac{\\sigma}{\\sqrt{n}}$\n",
    "\n",
    "__Practice:__ Examples of Sampling Distributions in Python "
   ]
  },
  {
   "cell_type": "markdown",
   "metadata": {},
   "source": [
    "### Example 1 (Sampling Distribution - from Uniform Distribution with sample size 5 and 5 iterations):"
   ]
  },
  {
   "cell_type": "code",
   "execution_count": 2,
   "metadata": {},
   "outputs": [],
   "source": [
    "# simulate uniform distribution \n",
    "a = 2\n",
    "b = 10\n",
    "num_samples = 100000\n",
    "uniform_data = np.random.uniform(a, b, num_samples)"
   ]
  },
  {
   "cell_type": "code",
   "execution_count": 3,
   "metadata": {},
   "outputs": [
    {
     "data": {
      "text/plain": [
       "5.996684393829748"
      ]
     },
     "execution_count": 3,
     "metadata": {},
     "output_type": "execute_result"
    }
   ],
   "source": [
    "uniform_data.mean() # (a + b)/2 = (2 + 10)/2"
   ]
  },
  {
   "cell_type": "code",
   "execution_count": 4,
   "metadata": {},
   "outputs": [
    {
     "data": {
      "text/plain": [
       "5.320231120256072"
      ]
     },
     "execution_count": 4,
     "metadata": {},
     "output_type": "execute_result"
    }
   ],
   "source": [
    "uniform_data.var() # (b - a)^2/12 = (10 - 2)^2/12"
   ]
  },
  {
   "cell_type": "code",
   "execution_count": 5,
   "metadata": {},
   "outputs": [
    {
     "data": {
      "text/plain": [
       "5.996321180700981"
      ]
     },
     "execution_count": 5,
     "metadata": {},
     "output_type": "execute_result"
    }
   ],
   "source": [
    "np.median(uniform_data)"
   ]
  },
  {
   "cell_type": "code",
   "execution_count": 6,
   "metadata": {
    "scrolled": false
   },
   "outputs": [
    {
     "data": {
      "text/plain": [
       "<matplotlib.axes._subplots.AxesSubplot at 0x19d771f7688>"
      ]
     },
     "execution_count": 6,
     "metadata": {},
     "output_type": "execute_result"
    },
    {
     "data": {
      "image/png": "[encoded data removed]",
      "text/plain": [
       "<Figure size 432x288 with 1 Axes>"
      ]
     },
     "metadata": {
      "needs_background": "light"
     },
     "output_type": "display_data"
    }
   ],
   "source": [
    "# plot the probability distribution \n",
    "sns.distplot(uniform_data)"
   ]
  },
  {
   "cell_type": "markdown",
   "metadata": {},
   "source": [
    "We will consider the Population to be a series of numbers ranging from 1 to 10 that follow a Uniform Distribution. We will now develop a Sampling Distribution for the Sample Mean based on this Population. "
   ]
  },
  {
   "cell_type": "markdown",
   "metadata": {},
   "source": [
    "__Step 1:__ We will choose the statistic to be the Mean (estimand). "
   ]
  },
  {
   "cell_type": "markdown",
   "metadata": {},
   "source": [
    "__Step 2:__ Sample 5 observations from the Population and calculate the Sample Mean every time. "
   ]
  },
  {
   "cell_type": "code",
   "execution_count": 7,
   "metadata": {},
   "outputs": [
    {
     "data": {
      "text/html": [
       "<div>\n",
       "<style scoped>\n",
       "    .dataframe tbody tr th:only-of-type {\n",
       "        vertical-align: middle;\n",
       "    }\n",
       "\n",
       "    .dataframe tbody tr th {\n",
       "        vertical-align: top;\n",
       "    }\n",
       "\n",
       "    .dataframe thead th {\n",
       "        text-align: right;\n",
       "    }\n",
       "</style>\n",
       "<table border=\"1\" class=\"dataframe\">\n",
       "  <thead>\n",
       "    <tr style=\"text-align: right;\">\n",
       "      <th></th>\n",
       "      <th>Population Values</th>\n",
       "    </tr>\n",
       "  </thead>\n",
       "  <tbody>\n",
       "    <tr>\n",
       "      <th>0</th>\n",
       "      <td>3.426472</td>\n",
       "    </tr>\n",
       "    <tr>\n",
       "      <th>1</th>\n",
       "      <td>3.438855</td>\n",
       "    </tr>\n",
       "    <tr>\n",
       "      <th>2</th>\n",
       "      <td>4.667804</td>\n",
       "    </tr>\n",
       "    <tr>\n",
       "      <th>3</th>\n",
       "      <td>2.587320</td>\n",
       "    </tr>\n",
       "    <tr>\n",
       "      <th>4</th>\n",
       "      <td>6.198036</td>\n",
       "    </tr>\n",
       "    <tr>\n",
       "      <th>5</th>\n",
       "      <td>5.293964</td>\n",
       "    </tr>\n",
       "    <tr>\n",
       "      <th>6</th>\n",
       "      <td>9.313323</td>\n",
       "    </tr>\n",
       "    <tr>\n",
       "      <th>7</th>\n",
       "      <td>8.193232</td>\n",
       "    </tr>\n",
       "    <tr>\n",
       "      <th>8</th>\n",
       "      <td>3.073681</td>\n",
       "    </tr>\n",
       "    <tr>\n",
       "      <th>9</th>\n",
       "      <td>9.579241</td>\n",
       "    </tr>\n",
       "  </tbody>\n",
       "</table>\n",
       "</div>"
      ],
      "text/plain": [
       "   Population Values\n",
       "0           3.426472\n",
       "1           3.438855\n",
       "2           4.667804\n",
       "3           2.587320\n",
       "4           6.198036\n",
       "5           5.293964\n",
       "6           9.313323\n",
       "7           8.193232\n",
       "8           3.073681\n",
       "9           9.579241"
      ]
     },
     "execution_count": 7,
     "metadata": {},
     "output_type": "execute_result"
    }
   ],
   "source": [
    "# make the data into a dataframe to use Pandas sample function \n",
    "uniform_data_df = pd.DataFrame(uniform_data)\n",
    "uniform_data_df.columns = [\"Population Values\"]\n",
    "uniform_data_df.head(10)"
   ]
  },
  {
   "cell_type": "code",
   "execution_count": 8,
   "metadata": {},
   "outputs": [
    {
     "data": {
      "text/plain": [
       "25831    4.745177\n",
       "23195    3.570956\n",
       "70490    8.194719\n",
       "59818    7.782632\n",
       "43170    9.464839\n",
       "Name: Population Values, dtype: float64"
      ]
     },
     "execution_count": 8,
     "metadata": {},
     "output_type": "execute_result"
    }
   ],
   "source": [
    "n = 5\n",
    "# sample 5 random values with replacement (each value has equal weight of getting chosen)\n",
    "sample_1 = uniform_data_df[\"Population Values\"].sample(n, replace = True)\n",
    "sample_1"
   ]
  },
  {
   "cell_type": "code",
   "execution_count": 9,
   "metadata": {},
   "outputs": [
    {
     "data": {
      "text/plain": [
       "6.751664895607564"
      ]
     },
     "execution_count": 9,
     "metadata": {},
     "output_type": "execute_result"
    }
   ],
   "source": [
    "# calculate sample mean \n",
    "sample_1.mean()"
   ]
  },
  {
   "cell_type": "markdown",
   "metadata": {},
   "source": [
    "__Step 3:__ Repeat Step 2 for 5 iterations and save the sample mean every time "
   ]
  },
  {
   "cell_type": "markdown",
   "metadata": {},
   "source": [
    "First, let us write a simple function to generate a Sample Distribution for any size sample, any number of iterations and for mean, range, and median sample statistics."
   ]
  },
  {
   "cell_type": "code",
   "execution_count": 11,
   "metadata": {},
   "outputs": [],
   "source": [
    "def sample_distr(n, num_iter, typ): # \"this function creates sampling distribution, n sample size, num_iter is number of samples, typ is ethier mean or range or median\"\n",
    "    sample_stats = []\n",
    "    for i in range(num_iter):\n",
    "        sample_i = uniform_data_df[\"Population Values\"].sample(n, replace = True)\n",
    "        print(\"Current Sample:\")\n",
    "        print(sample_i.values)\n",
    "        if typ == \"mean\":\n",
    "            sample_i_stat = sample_i.mean()\n",
    "        elif typ == \"range\":\n",
    "            sample_i_stat = sample_i.max() - sample_i.min()\n",
    "        elif typ == \"median\":\n",
    "            sample_i_stat = sample_i.median()\n",
    "        print(\"Current Sample Statistic for the \" + typ)\n",
    "        print(sample_i_stat)\n",
    "        print(\"\\n\")\n",
    "        sample_stats.append(sample_i_stat)\n",
    "    return sample_stats"
   ]
  },
  {
   "cell_type": "markdown",
   "metadata": {},
   "source": [
    "### Example 1.1 (Sampling Distribution of the Sample Mean):"
   ]
  },
  {
   "cell_type": "markdown",
   "metadata": {},
   "source": [
    "Execute the function for for a sample size of 5, 5 iterations and calculate the sample mean for each sample"
   ]
  },
  {
   "cell_type": "code",
   "execution_count": 12,
   "metadata": {
    "scrolled": true
   },
   "outputs": [
    {
     "name": "stdout",
     "output_type": "stream",
     "text": [
      "Current Sample:\n",
      "[3.90034352 4.2200412  5.11856453 3.44009564 5.208164  ]\n",
      "Current Sample Statistic for the mean\n",
      "4.37744177852488\n",
      "\n",
      "\n",
      "Current Sample:\n",
      "[2.8125746  5.7069046  6.05958878 6.78031484 3.58689531]\n",
      "Current Sample Statistic for the mean\n",
      "4.989255624372537\n",
      "\n",
      "\n",
      "Current Sample:\n",
      "[5.27386816 3.23747985 3.13938764 5.51567668 4.83116864]\n",
      "Current Sample Statistic for the mean\n",
      "4.399516196066008\n",
      "\n",
      "\n",
      "Current Sample:\n",
      "[4.66072998 6.40061164 9.83002713 2.11070933 6.89744048]\n",
      "Current Sample Statistic for the mean\n",
      "5.979903713536588\n",
      "\n",
      "\n",
      "Current Sample:\n",
      "[7.1892505  8.62690889 3.56399945 7.08787852 9.77852668]\n",
      "Current Sample Statistic for the mean\n",
      "7.249312807379184\n",
      "\n",
      "\n"
     ]
    }
   ],
   "source": [
    "distr_mean = sample_distr(5, 5, \"mean\")"
   ]
  },
  {
   "cell_type": "code",
   "execution_count": 13,
   "metadata": {},
   "outputs": [
    {
     "data": {
      "text/plain": [
       "[4.37744177852488,\n",
       " 4.989255624372537,\n",
       " 4.399516196066008,\n",
       " 5.979903713536588,\n",
       " 7.249312807379184]"
      ]
     },
     "execution_count": 13,
     "metadata": {},
     "output_type": "execute_result"
    }
   ],
   "source": [
    "distr_mean"
   ]
  },
  {
   "cell_type": "markdown",
   "metadata": {},
   "source": [
    "### Example 1.2 (Sampling Distribution of the Sample Range):"
   ]
  },
  {
   "cell_type": "markdown",
   "metadata": {},
   "source": [
    "Execute the function for a sample size of 5, 5 iterations and calculate the sample range for each sample"
   ]
  },
  {
   "cell_type": "code",
   "execution_count": 14,
   "metadata": {
    "scrolled": true
   },
   "outputs": [
    {
     "name": "stdout",
     "output_type": "stream",
     "text": [
      "Current Sample:\n",
      "[4.72591731 3.01337121 6.99668953 6.48371348 7.70286281]\n",
      "Current Sample Statistic for the range\n",
      "4.689491598590737\n",
      "\n",
      "\n",
      "Current Sample:\n",
      "[5.19232396 7.79482632 4.22831796 7.9976149  7.88781631]\n",
      "Current Sample Statistic for the range\n",
      "3.769296933428377\n",
      "\n",
      "\n",
      "Current Sample:\n",
      "[2.16370759 5.01862282 8.20569268 9.05190315 2.29379636]\n",
      "Current Sample Statistic for the range\n",
      "6.888195556617103\n",
      "\n",
      "\n",
      "Current Sample:\n",
      "[4.97136836 3.66485497 9.32733379 5.19291844 8.67354224]\n",
      "Current Sample Statistic for the range\n",
      "5.6624788183099\n",
      "\n",
      "\n",
      "Current Sample:\n",
      "[6.44034344 6.90081849 2.58926316 7.92866306 9.77009372]\n",
      "Current Sample Statistic for the range\n",
      "7.180830560122566\n",
      "\n",
      "\n"
     ]
    }
   ],
   "source": [
    "distr_range = sample_distr(5, 5, \"range\")"
   ]
  },
  {
   "cell_type": "code",
   "execution_count": 15,
   "metadata": {},
   "outputs": [
    {
     "data": {
      "text/plain": [
       "[4.689491598590737,\n",
       " 3.769296933428377,\n",
       " 6.888195556617103,\n",
       " 5.6624788183099,\n",
       " 7.180830560122566]"
      ]
     },
     "execution_count": 15,
     "metadata": {},
     "output_type": "execute_result"
    }
   ],
   "source": [
    "distr_range"
   ]
  },
  {
   "cell_type": "markdown",
   "metadata": {},
   "source": [
    "### Example 1.3 (Sampling Distribution of the Sample Median):"
   ]
  },
  {
   "cell_type": "markdown",
   "metadata": {},
   "source": [
    "Execute the function for for a sample size of 5, 5 iterations and calculate the sample median for each sample"
   ]
  },
  {
   "cell_type": "code",
   "execution_count": null,
   "metadata": {
    "scrolled": true
   },
   "outputs": [],
   "source": [
    "distr_median = sample_distr(5, 5, \"median\")"
   ]
  },
  {
   "cell_type": "code",
   "execution_count": null,
   "metadata": {},
   "outputs": [],
   "source": [
    "distr_median"
   ]
  },
  {
   "cell_type": "markdown",
   "metadata": {},
   "source": [
    "__Step 4:__ Plot the Probability Distribution of the Sample Statistics"
   ]
  },
  {
   "cell_type": "code",
   "execution_count": null,
   "metadata": {},
   "outputs": [],
   "source": [
    "sns.distplot(distr_mean)"
   ]
  },
  {
   "cell_type": "code",
   "execution_count": null,
   "metadata": {},
   "outputs": [],
   "source": [
    "sns.distplot(distr_range)"
   ]
  },
  {
   "cell_type": "code",
   "execution_count": null,
   "metadata": {},
   "outputs": [],
   "source": [
    "sns.distplot(distr_median)"
   ]
  },
  {
   "cell_type": "markdown",
   "metadata": {},
   "source": [
    "### Example 2 (Sampling Distribution - from Uniform Distribution with sample size 5 and 10000 iterations):"
   ]
  },
  {
   "cell_type": "code",
   "execution_count": 16,
   "metadata": {},
   "outputs": [],
   "source": [
    "# re-initialize the function, but remove the print statements\n",
    "def sample_distr(n, num_iter, typ):\n",
    "    sample_stats = []\n",
    "    for i in range(num_iter):\n",
    "        sample_i = uniform_data_df[\"Population Values\"].sample(n, replace = True)\n",
    "        if typ == \"mean\":\n",
    "            sample_i_stat = sample_i.mean()\n",
    "        elif typ == \"range\":\n",
    "            sample_i_stat = sample_i.max() - sample_i.min()\n",
    "        elif typ == \"median\":\n",
    "            sample_i_stat = sample_i.median()\n",
    "        sample_stats.append(sample_i_stat)\n",
    "    return sample_stats"
   ]
  },
  {
   "cell_type": "markdown",
   "metadata": {},
   "source": [
    "### Example 2.1 (Sampling Distribution of the Sample Mean):"
   ]
  },
  {
   "cell_type": "code",
   "execution_count": 17,
   "metadata": {},
   "outputs": [],
   "source": [
    "distr_mean = sample_distr(5, 10000, \"mean\") # for mean"
   ]
  },
  {
   "cell_type": "code",
   "execution_count": 18,
   "metadata": {
    "scrolled": false
   },
   "outputs": [
    {
     "data": {
      "text/plain": [
       "<matplotlib.axes._subplots.AxesSubplot at 0x19d772e9648>"
      ]
     },
     "execution_count": 18,
     "metadata": {},
     "output_type": "execute_result"
    },
    {
     "data": {
      "image/png": "[encoded data removed]",
      "text/plain": [
       "<Figure size 432x288 with 1 Axes>"
      ]
     },
     "metadata": {
      "needs_background": "light"
     },
     "output_type": "display_data"
    }
   ],
   "source": [
    "sns.distplot(distr_mean) # sampling distribution of the sample mean "
   ]
  },
  {
   "cell_type": "code",
   "execution_count": 19,
   "metadata": {
    "scrolled": true
   },
   "outputs": [
    {
     "data": {
      "text/plain": [
       "5.993170681884679"
      ]
     },
     "execution_count": 19,
     "metadata": {},
     "output_type": "execute_result"
    }
   ],
   "source": [
    "np.mean(distr_mean) # mean of the sampling distribution of the sample mean"
   ]
  },
  {
   "cell_type": "code",
   "execution_count": 20,
   "metadata": {
    "scrolled": true
   },
   "outputs": [
    {
     "data": {
      "text/plain": [
       "1.0618965962566629"
      ]
     },
     "execution_count": 20,
     "metadata": {},
     "output_type": "execute_result"
    }
   ],
   "source": [
    "np.var(distr_mean) # variance of the sampling distribution of the sample mean"
   ]
  },
  {
   "cell_type": "markdown",
   "metadata": {},
   "source": [
    "### Example 2.2 (Sampling Distribution of the Sample Range):"
   ]
  },
  {
   "cell_type": "code",
   "execution_count": null,
   "metadata": {},
   "outputs": [],
   "source": [
    "distr_range = sample_distr(5, 10000, \"range\") # for range"
   ]
  },
  {
   "cell_type": "code",
   "execution_count": null,
   "metadata": {
    "scrolled": true
   },
   "outputs": [],
   "source": [
    "sns.distplot(distr_range) # sampling distribution of the sample range"
   ]
  },
  {
   "cell_type": "code",
   "execution_count": null,
   "metadata": {
    "scrolled": true
   },
   "outputs": [],
   "source": [
    "np.mean(distr_range) # mean of the sampling distribution of the sample range"
   ]
  },
  {
   "cell_type": "code",
   "execution_count": null,
   "metadata": {},
   "outputs": [],
   "source": [
    "np.var(distr_range) # variance of the sampling distribution of the sample range"
   ]
  },
  {
   "cell_type": "markdown",
   "metadata": {},
   "source": [
    "### Example 2.3 (Sampling Distribution of the Sample Median):"
   ]
  },
  {
   "cell_type": "code",
   "execution_count": null,
   "metadata": {},
   "outputs": [],
   "source": [
    "distr_median= sample_distr(5, 10000, \"median\") # for median "
   ]
  },
  {
   "cell_type": "code",
   "execution_count": null,
   "metadata": {},
   "outputs": [],
   "source": [
    "sns.distplot(distr_median) # sampling distribution of the sample median"
   ]
  },
  {
   "cell_type": "code",
   "execution_count": null,
   "metadata": {
    "scrolled": true
   },
   "outputs": [],
   "source": [
    "np.mean(distr_median) # mean of the sampling distribution of the sample median"
   ]
  },
  {
   "cell_type": "code",
   "execution_count": null,
   "metadata": {},
   "outputs": [],
   "source": [
    "np.var(distr_median) # variance of the sampling distribution of the sample median"
   ]
  },
  {
   "cell_type": "markdown",
   "metadata": {},
   "source": [
    "### Example 3 (Sampling Distribution - from Uniform Distribution with sample size 25 and 10000 iterations):"
   ]
  },
  {
   "cell_type": "code",
   "execution_count": null,
   "metadata": {},
   "outputs": [],
   "source": [
    "distr_mean = sample_distr(25, 10000, \"mean\") # for mean"
   ]
  },
  {
   "cell_type": "code",
   "execution_count": null,
   "metadata": {
    "scrolled": false
   },
   "outputs": [],
   "source": [
    "sns.distplot(distr_mean) # sampling distribution of the sample mean "
   ]
  },
  {
   "cell_type": "code",
   "execution_count": null,
   "metadata": {
    "scrolled": true
   },
   "outputs": [],
   "source": [
    "np.mean(distr_mean) # mean of the sampling distribution of the sample mean"
   ]
  },
  {
   "cell_type": "code",
   "execution_count": null,
   "metadata": {
    "scrolled": true
   },
   "outputs": [],
   "source": [
    "np.var(distr_mean) # variance of the sampling distribution of the sample mean"
   ]
  },
  {
   "cell_type": "markdown",
   "metadata": {},
   "source": [
    "Notice how when we increase the size of our sample size, the distribution becomes closer to normal, the mean of the Sampling Distribution approaches the population mean and the variance of the Sampling Distribution significantly decreses. This is because if our sample size that we take from the population is larger, it is more likely that the sample contains the true population mean. "
   ]
  },
  {
   "cell_type": "markdown",
   "metadata": {},
   "source": [
    "### Example 4 (Calculating Standard Error of the Sample Mean):"
   ]
  },
  {
   "cell_type": "markdown",
   "metadata": {},
   "source": [
    "If we know the standard deviation of the original distribution and the sample size, we can determine the standard deviation of the sampling distribution. This standard deviation in the case of the sampling distribution of the sample mean is called the Standard Error. **calculate the sample standard error for the mean in ordinary way and using sampling distribution**\n",
    "\n",
    "<center> $\\sigma_{\\bar x} = \\frac {\\sigma}{\\sqrt{n}}$ </center>"
   ]
  },
  {
   "cell_type": "code",
   "execution_count": 26,
   "metadata": {},
   "outputs": [
    {
     "data": {
      "text/plain": [
       "0.46131252401191414"
      ]
     },
     "execution_count": 26,
     "metadata": {},
     "output_type": "execute_result"
    }
   ],
   "source": [
    "# calculate standard error of the sampling distribution above in example 3\n",
    "std_error_form = uniform_data.std() / math.sqrt(25)\n",
    "std_error_form"
   ]
  },
  {
   "cell_type": "code",
   "execution_count": 27,
   "metadata": {},
   "outputs": [
    {
     "data": {
      "text/plain": [
       "1.0304836710286402"
      ]
     },
     "execution_count": 27,
     "metadata": {},
     "output_type": "execute_result"
    }
   ],
   "source": [
    "np.std(distr_mean) # same as above "
   ]
  },
  {
   "cell_type": "markdown",
   "metadata": {},
   "source": [
    "Clearly, there is a relationship between the sample size and the standard deviation of the sampling distribution. "
   ]
  },
  {
   "cell_type": "markdown",
   "metadata": {},
   "source": [
    "### Solutions"
   ]
  },
  {
   "cell_type": "markdown",
   "metadata": {},
   "source": [
    "### Problem 1:\n",
    "\n",
    "The Executive Director at Metis is interested in learning how likely the students of this course from this cohort are to recommend the course to a friend. To measure this, the Executive Director provides a survey to the students and asks them how likely they are to recommend the course. 15 of 30 students answer the survey. Based on the answers of the 15 students who completed the survey, the Executive Director will make his conclusion. What is the Sample and what is the Population?"
   ]
  },
  {
   "cell_type": "markdown",
   "metadata": {},
   "source": [
    "__Option A:__ Population = all students who have taken this course at Metis from all cohorts. Sample = all students from this course and cohort."
   ]
  },
  {
   "cell_type": "markdown",
   "metadata": {},
   "source": [
    "__Option B:__ Population = all students who have taken any course from Metis from all cohorts. Sample = all students of this course from all cohorts."
   ]
  },
  {
   "cell_type": "markdown",
   "metadata": {},
   "source": [
    "__Option C:__ Population = all students from this course and cohort. Sample = 15 students from this course and cohort who answered the survey"
   ]
  },
  {
   "cell_type": "markdown",
   "metadata": {},
   "source": [
    "The answer is \"Option C\""
   ]
  },
  {
   "cell_type": "code",
   "execution_count": null,
   "metadata": {},
   "outputs": [],
   "source": []
  }
 ],
 "metadata": {
  "kernelspec": {
   "display_name": "Python 3",
   "language": "python",
   "name": "python3"
  },
  "language_info": {
   "codemirror_mode": {
    "name": "ipython",
    "version": 3
   },
   "file_extension": ".py",
   "mimetype": "text/x-python",
   "name": "python",
   "nbconvert_exporter": "python",
   "pygments_lexer": "ipython3",
   "version": "3.7.6"
  },
  "toc": {
   "base_numbering": 1,
   "nav_menu": {},
   "number_sections": false,
   "sideBar": true,
   "skip_h1_title": false,
   "title_cell": "Table of Contents",
   "title_sidebar": "Contents",
   "toc_cell": false,
   "toc_position": {},
   "toc_section_display": true,
   "toc_window_display": true
  }
 },
 "nbformat": 4,
 "nbformat_minor": 2
}
