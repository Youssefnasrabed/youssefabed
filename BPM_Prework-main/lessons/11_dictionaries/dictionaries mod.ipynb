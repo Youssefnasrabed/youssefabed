{
 "cells": [
  {
   "cell_type": "markdown",
   "metadata": {},
   "source": [
    "# Dictionaries\n",
    "\n",
    "In this notebook we will: \n",
    "- Learn how to work with `Dictionaries`"
   ]
  },
  {
   "cell_type": "markdown",
   "metadata": {},
   "source": [
    "## Dictionaries"
   ]
  },
  {
   "cell_type": "markdown",
   "metadata": {},
   "source": [
    "### Motivating example: Short-comings of lists"
   ]
  },
  {
   "cell_type": "markdown",
   "metadata": {},
   "source": [
    "We have already seen `list` objects as a way of storing data. For a `list`, we use the _index_ to look up the value. Consider a list of countries and capitals:"
   ]
  },
  {
   "cell_type": "code",
   "execution_count": 1,
   "metadata": {},
   "outputs": [],
   "source": [
    "countries_and_capitals = [\n",
    "    ['United States of America', 'Washington D.C.'],\n",
    "    ['Argentina', 'Buenos Aires'],\n",
    "    ['France', 'Paris'],\n",
    "    ['India', 'New Delhi'],\n",
    "]"
   ]
  },
  {
   "cell_type": "code",
   "execution_count": 2,
   "metadata": {},
   "outputs": [
    {
     "data": {
      "text/plain": [
       "['France', 'Paris']"
      ]
     },
     "execution_count": 2,
     "metadata": {},
     "output_type": "execute_result"
    }
   ],
   "source": [
    "countries_and_capitals[2] # \"this returns the third element of the list ['France', 'Paris']\""
   ]
  },
  {
   "cell_type": "code",
   "execution_count": 3,
   "metadata": {},
   "outputs": [
    {
     "data": {
      "text/plain": [
       "'Paris'"
      ]
     },
     "execution_count": 3,
     "metadata": {},
     "output_type": "execute_result"
    }
   ],
   "source": [
    "countries_and_capitals[2][1]"
   ]
  },
  {
   "cell_type": "markdown",
   "metadata": {},
   "source": [
    "Suppose we wanted to look up the capital of Argentina. First we need to iterate through the list. Each element is itself a list. Once we find 'Argentina', we can determine its capital, **it is not easy to subset on characters**:"
   ]
  },
  {
   "cell_type": "code",
   "execution_count": 5,
   "metadata": {},
   "outputs": [
    {
     "name": "stdout",
     "output_type": "stream",
     "text": [
      "Buenos Aires\n"
     ]
    }
   ],
   "source": [
    "country_to_find = 'Argentina'\n",
    "\n",
    "for country_and_capital in countries_and_capitals: # \"for each element (sublist) in the list \"\n",
    "    country = country_and_capital[0] # \"set county to be the first elemnt (in the sublist)\"\n",
    "    if country == country_to_find: # \"if the first element in the sublist is Argentina\"\n",
    "        capital = country_and_capital[1] # \"store the second element in the sublist\"\n",
    "\n",
    "print(capital)"
   ]
  },
  {
   "cell_type": "markdown",
   "metadata": {},
   "source": [
    "Lists are not convenient for looking up things without an index. We _can_ do it by making \"lists of lists\", but it isn't efficient AND it makes us write a lot of code that obscures what we are doing.\n",
    "\n",
    "### How a dictionary solves this problem\n",
    "\n",
    "A dictionary allows us to have a `key` to lookup a `value`. Instead of looking a value up by _index_, we look it up by _key_. The idea is similar to a dictionary, where you use the word (the `key`) to look up the meaning (the `value`). \n",
    "\n",
    "Let's try to make this clearer with the countries/capitals example. __Note__ that dictionaries use curly brackets `{...}`."
   ]
  },
  {
   "cell_type": "code",
   "execution_count": 6,
   "metadata": {},
   "outputs": [],
   "source": [
    "# syntax is \n",
    "# { key1: value1, key2: value2, ...... }\n",
    "\n",
    "countries_and_capitals = {\n",
    "    'United States of America': 'Washington D.C.',  \n",
    "    'Argentina': 'Buenos Aires',           \n",
    "    'France': 'Paris', # France is the key, and Paris is the value\n",
    "    'India': 'New Delhi',\n",
    "}"
   ]
  },
  {
   "cell_type": "markdown",
   "metadata": {},
   "source": [
    "We can use the `keys` to look things up with the square brackets `[...]`"
   ]
  },
  {
   "cell_type": "code",
   "execution_count": 7,
   "metadata": {},
   "outputs": [
    {
     "data": {
      "text/plain": [
       "'New Delhi'"
      ]
     },
     "execution_count": 7,
     "metadata": {},
     "output_type": "execute_result"
    }
   ],
   "source": [
    "countries_and_capitals['India']"
   ]
  },
  {
   "cell_type": "markdown",
   "metadata": {},
   "source": [
    "We **cannot** use the **values** (this will have an error)"
   ]
  },
  {
   "cell_type": "code",
   "execution_count": null,
   "metadata": {},
   "outputs": [],
   "source": [
    "countries_and_capitals['New Delhi']"
   ]
  },
  {
   "cell_type": "markdown",
   "metadata": {},
   "source": [
    "We can add new `keys` easily:"
   ]
  },
  {
   "cell_type": "code",
   "execution_count": 8,
   "metadata": {},
   "outputs": [
    {
     "data": {
      "text/plain": [
       "{'United States of America': 'Washington D.C.',\n",
       " 'Argentina': 'Buenos Aires',\n",
       " 'France': 'Paris',\n",
       " 'India': 'New Delhi',\n",
       " 'Botswana': 'Gaborone'}"
      ]
     },
     "execution_count": 8,
     "metadata": {},
     "output_type": "execute_result"
    }
   ],
   "source": [
    "countries_and_capitals['Botswana'] = 'Gaborone' # \"adding to dictionary\"\n",
    "countries_and_capitals"
   ]
  },
  {
   "cell_type": "markdown",
   "metadata": {},
   "source": [
    "However, `keys` have to be unique. If we overwrite a key, we lose the previous value"
   ]
  },
  {
   "cell_type": "code",
   "execution_count": 9,
   "metadata": {},
   "outputs": [
    {
     "name": "stdout",
     "output_type": "stream",
     "text": [
      "Buenos Aires\n"
     ]
    }
   ],
   "source": [
    "print(countries_and_capitals['Argentina'])"
   ]
  },
  {
   "cell_type": "code",
   "execution_count": 13,
   "metadata": {},
   "outputs": [
    {
     "name": "stdout",
     "output_type": "stream",
     "text": [
      "Paris\n"
     ]
    }
   ],
   "source": [
    "countries_and_capitals['Argentina'] = 'Paris' # \"this will replace the value to be Paris\"\n",
    "print(countries_and_capitals['Argentina'])"
   ]
  },
  {
   "cell_type": "markdown",
   "metadata": {},
   "source": [
    "The `values` do not need to be unique. Now, we have two `values` with 'Paris'."
   ]
  },
  {
   "cell_type": "code",
   "execution_count": 11,
   "metadata": {},
   "outputs": [
    {
     "data": {
      "text/plain": [
       "{'United States of America': 'Washington D.C.',\n",
       " 'Argentina': 'Paris',\n",
       " 'France': 'Paris',\n",
       " 'India': 'New Delhi',\n",
       " 'Botswana': 'Gaborone'}"
      ]
     },
     "execution_count": 11,
     "metadata": {},
     "output_type": "execute_result"
    }
   ],
   "source": [
    "countries_and_capitals"
   ]
  },
  {
   "cell_type": "markdown",
   "metadata": {},
   "source": [
    "We can use the `in` operator to check if a key is in a dictionary. __Note__ it only works on keys!"
   ]
  },
  {
   "cell_type": "code",
   "execution_count": 12,
   "metadata": {},
   "outputs": [
    {
     "data": {
      "text/plain": [
       "True"
      ]
     },
     "execution_count": 12,
     "metadata": {},
     "output_type": "execute_result"
    }
   ],
   "source": [
    "# Note that Botswana is a key\n",
    "'Botswana' in countries_and_capitals # \"in used only for keys\""
   ]
  },
  {
   "cell_type": "code",
   "execution_count": 14,
   "metadata": {},
   "outputs": [
    {
     "data": {
      "text/plain": [
       "False"
      ]
     },
     "execution_count": 14,
     "metadata": {},
     "output_type": "execute_result"
    }
   ],
   "source": [
    "# Paris isn't a key, so it is not found\n",
    "'Paris' in countries_and_capitals"
   ]
  },
  {
   "cell_type": "code",
   "execution_count": 15,
   "metadata": {},
   "outputs": [
    {
     "data": {
      "text/plain": [
       "False"
      ]
     },
     "execution_count": 15,
     "metadata": {},
     "output_type": "execute_result"
    }
   ],
   "source": [
    "'Fiji' in countries_and_capitals"
   ]
  },
  {
   "cell_type": "markdown",
   "metadata": {},
   "source": [
    "We cannot access dictionaries by index, only by `keys`:"
   ]
  },
  {
   "cell_type": "code",
   "execution_count": 16,
   "metadata": {},
   "outputs": [
    {
     "ename": "KeyError",
     "evalue": "0",
     "output_type": "error",
     "traceback": [
      "\u001b[1;31m---------------------------------------------------------------------------\u001b[0m",
      "\u001b[1;31mKeyError\u001b[0m                                  Traceback (most recent call last)",
      "\u001b[1;32m<ipython-input-16-15e30bb24557>\u001b[0m in \u001b[0;36m<module>\u001b[1;34m\u001b[0m\n\u001b[0;32m      1\u001b[0m \u001b[1;31m# This will give an error, unless there is a key assigne to 0\u001b[0m\u001b[1;33m\u001b[0m\u001b[1;33m\u001b[0m\u001b[1;33m\u001b[0m\u001b[0m\n\u001b[1;32m----> 2\u001b[1;33m \u001b[0mcountries_and_capitals\u001b[0m\u001b[1;33m[\u001b[0m\u001b[1;36m0\u001b[0m\u001b[1;33m]\u001b[0m\u001b[1;33m\u001b[0m\u001b[1;33m\u001b[0m\u001b[0m\n\u001b[0m",
      "\u001b[1;31mKeyError\u001b[0m: 0"
     ]
    }
   ],
   "source": [
    "# This will give an error, unless there is a key assigne to 0\n",
    "countries_and_capitals[0]"
   ]
  },
  {
   "cell_type": "markdown",
   "metadata": {},
   "source": [
    "You shouldn't rely on the order of items in a dictionary either. They are not designed to be accessed by position. We can iterate over a dictionary in a `for loop`, but should not rely on the order"
   ]
  },
  {
   "cell_type": "code",
   "execution_count": 17,
   "metadata": {},
   "outputs": [
    {
     "name": "stdout",
     "output_type": "stream",
     "text": [
      "United States of America\n",
      "Argentina\n",
      "France\n",
      "India\n",
      "Botswana\n"
     ]
    }
   ],
   "source": [
    "for country in countries_and_capitals:\n",
    "    print(country) # \"print the keys only\""
   ]
  },
  {
   "cell_type": "markdown",
   "metadata": {},
   "source": [
    "### Dictionary methods\n",
    "\n",
    "Dictionaries have a few methods that can be observed by writing the name of the dictionary, followe by a `.` and press the `TAB` key.  Here are a few examples:"
   ]
  },
  {
   "cell_type": "code",
   "execution_count": 18,
   "metadata": {},
   "outputs": [
    {
     "data": {
      "text/plain": [
       "['__class__',\n",
       " '__contains__',\n",
       " '__delattr__',\n",
       " '__delitem__',\n",
       " '__dir__',\n",
       " '__doc__',\n",
       " '__eq__',\n",
       " '__format__',\n",
       " '__ge__',\n",
       " '__getattribute__',\n",
       " '__getitem__',\n",
       " '__gt__',\n",
       " '__hash__',\n",
       " '__init__',\n",
       " '__init_subclass__',\n",
       " '__iter__',\n",
       " '__le__',\n",
       " '__len__',\n",
       " '__lt__',\n",
       " '__ne__',\n",
       " '__new__',\n",
       " '__reduce__',\n",
       " '__reduce_ex__',\n",
       " '__repr__',\n",
       " '__setattr__',\n",
       " '__setitem__',\n",
       " '__sizeof__',\n",
       " '__str__',\n",
       " '__subclasshook__',\n",
       " 'clear',\n",
       " 'copy',\n",
       " 'fromkeys',\n",
       " 'get',\n",
       " 'items',\n",
       " 'keys',\n",
       " 'pop',\n",
       " 'popitem',\n",
       " 'setdefault',\n",
       " 'update',\n",
       " 'values']"
      ]
     },
     "execution_count": 18,
     "metadata": {},
     "output_type": "execute_result"
    }
   ],
   "source": [
    "dir(countries_and_capitals)"
   ]
  },
  {
   "cell_type": "code",
   "execution_count": 19,
   "metadata": {},
   "outputs": [
    {
     "data": {
      "text/plain": [
       "dict_keys(['United States of America', 'Argentina', 'France', 'India', 'Botswana'])"
      ]
     },
     "execution_count": 19,
     "metadata": {},
     "output_type": "execute_result"
    }
   ],
   "source": [
    "countries_and_capitals.keys() # displays all the keys"
   ]
  },
  {
   "cell_type": "code",
   "execution_count": 20,
   "metadata": {},
   "outputs": [
    {
     "data": {
      "text/plain": [
       "dict_values(['Washington D.C.', 'Paris', 'Paris', 'New Delhi', 'Gaborone'])"
      ]
     },
     "execution_count": 20,
     "metadata": {},
     "output_type": "execute_result"
    }
   ],
   "source": [
    "countries_and_capitals.values() # displays all the values"
   ]
  },
  {
   "cell_type": "code",
   "execution_count": 26,
   "metadata": {},
   "outputs": [
    {
     "data": {
      "text/plain": [
       "'unknown'"
      ]
     },
     "execution_count": 26,
     "metadata": {},
     "output_type": "execute_result"
    }
   ],
   "source": [
    "countries_and_capitals.get('Fiji', 'unknown') # \"does not error if the key is not found\"\n"
   ]
  },
  {
   "cell_type": "code",
   "execution_count": 27,
   "metadata": {},
   "outputs": [
    {
     "data": {
      "text/plain": [
       "dict_items([('United States of America', 'Washington D.C.'), ('Argentina', 'Paris'), ('France', 'Paris'), ('India', 'New Delhi'), ('Botswana', 'Gaborone')])"
      ]
     },
     "execution_count": 27,
     "metadata": {},
     "output_type": "execute_result"
    }
   ],
   "source": [
    "countries_and_capitals.items() # \"returns the key/value pairs\""
   ]
  },
  {
   "cell_type": "markdown",
   "metadata": {},
   "source": [
    "### Brief summary of dictionaries\n",
    "\n",
    "- Created with `{key1: value1, key2: value2, .... }`\n",
    "- Keys must be immutable. Basically use strings, numbers, or tuples as your keys.\n",
    "- Keys cannot repeat, assigning to the same key will overwrite the existing value\n",
    "- Values can repeat\n",
    "- The `in` keyword tests whether a key is in the dictionary or not.\n",
    "- We can mutate a dictionary. \n",
    "  - To add `new_key` to a dictionary `d`, we can write `d[new_key] = .....`\n",
    "  - To remove `old_key` from a dictionary `d`, we can write `del d[old_key]`"
   ]
  },
  {
   "cell_type": "markdown",
   "metadata": {},
   "source": [
    "### Test:\n",
    "\n",
    "We have a menu with the following items on it:\n",
    "\n",
    "| Name | Price |\n",
    "| --- | --- |\n",
    "| Small fries | 1.00 |\n",
    "| Hamburger | 1.00 |\n",
    "| Small drink | 1.00|\n",
    "| Medium drink | 1.00 |\n",
    "| Large drink | 1.00 |\n",
    "| Medium fries | 1.45 |\n",
    "| Large fries | 2.00 |\n",
    "| Cheeseburger | 2.50 |\n",
    "\n",
    "1. Would we be able to make a dictionary `name_to_price` where the keys are names and the values are the price?\n",
    "2. Would we be able to make a dictionary `price_to_name` where the keys are prices and the values are the name?"
   ]
  },
  {
   "cell_type": "code",
   "execution_count": 29,
   "metadata": {},
   "outputs": [
    {
     "data": {
      "text/plain": [
       "{1.0: ['Small fries', 'Hamburger', 'Small drink'],\n",
       " 1.45: ['Medium fries'],\n",
       " 2.0: ['Large fries'],\n",
       " 2.5: ['Cheeseburger']}"
      ]
     },
     "execution_count": 29,
     "metadata": {},
     "output_type": "execute_result"
    }
   ],
   "source": [
    "price_to_name = {\n",
    "    1.00: ['Small fries', 'Hamburger', 'Small drink'],\n",
    "    1.45: ['Medium fries'],\n",
    "    2.00: ['Large fries'],\n",
    "    2.50: ['Cheeseburger'] \n",
    "}\n",
    "\n",
    "price_to_name"
   ]
  },
  {
   "cell_type": "markdown",
   "metadata": {},
   "source": [
    "## Examples of using a dictionary:\n",
    "\n",
    "Dictionaries are quick to add keys, and quick to find keys (they use a trick called _hashing_). Here are a few examples where `dictionaries` are useful. \n",
    "\n",
    "1. **Phone book:** e.g. Key: name, value: phone number\n",
    "2. **Counters:** e.g. key: thing to be counted, value: number of occurances of thing to be counted\n",
    "3. **More readable datastructures**: We can get away with storing information in lists such as `[name, age, salary]`, but then we have to remember the order. A dictionaries keys can make it easier for the next person to read.\n"
   ]
  },
  {
   "cell_type": "markdown",
   "metadata": {},
   "source": [
    "## Exercise:\n",
    "\n",
    "Write a function that given a string of digits, returns a dictionary that counts how many times each digit appears in the text. The `keys` are the digits and the `values` are the counts of how many times the digit occurs."
   ]
  },
  {
   "cell_type": "code",
   "execution_count": null,
   "metadata": {},
   "outputs": [],
   "source": [
    "pi_string = '3.141592653589793'\n",
    "\n",
    "### Write code here\n",
    "\n",
    "\n"
   ]
  },
  {
   "cell_type": "code",
   "execution_count": 32,
   "metadata": {},
   "outputs": [],
   "source": [
    "### ANSWER\n",
    "\n",
    "pi_string = '3.141592653589793'\n",
    "\n",
    "def count_digits(text):\n",
    "    digit_counter = {} # \"create empty dictionary\"\n",
    "    for digit in text: # \"for each elemnt in pi_string\"\n",
    "        if digit.isnumeric(): # \"if digit is numeric proceed\"\n",
    "            if digit not in digit_counter: # \"if digit is not saved before in digit_counter set the digit_counter for this digit to 0\"\n",
    "                digit_counter[digit] = 0 \n",
    "            digit_counter[digit] +=1 # \"if digit is numeric add 1 to the digit counter for this digit\"\n",
    "    return digit_counter"
   ]
  },
  {
   "cell_type": "code",
   "execution_count": 31,
   "metadata": {},
   "outputs": [
    {
     "data": {
      "text/plain": [
       "{'3': 3, '1': 2, '4': 1, '5': 3, '9': 3, '2': 1, '6': 1, '8': 1, '7': 1}"
      ]
     },
     "execution_count": 31,
     "metadata": {},
     "output_type": "execute_result"
    }
   ],
   "source": [
    "digit_counter = count_digits(pi_string)\n",
    "digit_counter"
   ]
  },
  {
   "cell_type": "code",
   "execution_count": 33,
   "metadata": {},
   "outputs": [],
   "source": [
    "### ANOTHER ANSWER\n",
    "\n",
    "pi_string = '3.141592653589793'\n",
    "\n",
    "def count_digits2(text):\n",
    "    digit_counter = {}\n",
    "    for digit in text:\n",
    "        if digit.isnumeric() and digit not in digit_counter: # in one line\n",
    "            digit_counter[digit] = pi_string.count(digit) # \"usie the count method to count the number of times the digit has ocuured\"\n",
    "    return digit_counter"
   ]
  },
  {
   "cell_type": "code",
   "execution_count": 34,
   "metadata": {},
   "outputs": [
    {
     "data": {
      "text/plain": [
       "{'3': 3, '1': 2, '4': 1, '5': 3, '9': 3, '2': 1, '6': 1, '8': 1, '7': 1}"
      ]
     },
     "execution_count": 34,
     "metadata": {},
     "output_type": "execute_result"
    }
   ],
   "source": [
    "digit_counter = count_digits2(pi_string)\n",
    "digit_counter"
   ]
  },
  {
   "cell_type": "markdown",
   "metadata": {},
   "source": [
    "If we want to figure out which number has the **highest counts** we could **create a list** of lists with the first element being the `value`, and the second element being the `key`. Finally we would sort this list as shown below. "
   ]
  },
  {
   "cell_type": "code",
   "execution_count": 35,
   "metadata": {},
   "outputs": [
    {
     "data": {
      "text/plain": [
       "[[3, '3'],\n",
       " [2, '1'],\n",
       " [1, '4'],\n",
       " [3, '5'],\n",
       " [3, '9'],\n",
       " [1, '2'],\n",
       " [1, '6'],\n",
       " [1, '8'],\n",
       " [1, '7']]"
      ]
     },
     "execution_count": 35,
     "metadata": {},
     "output_type": "execute_result"
    }
   ],
   "source": [
    "# we create a list of lists\n",
    "new_list = []\n",
    "for key, value in digit_counter.items(): # \"gives the key/value pair, notice here for key,value\"\n",
    "    new_list.append([value,key])\n",
    "new_list"
   ]
  },
  {
   "cell_type": "code",
   "execution_count": 36,
   "metadata": {},
   "outputs": [
    {
     "data": {
      "text/plain": [
       "[[3, '9'],\n",
       " [3, '5'],\n",
       " [3, '3'],\n",
       " [2, '1'],\n",
       " [1, '8'],\n",
       " [1, '7'],\n",
       " [1, '6'],\n",
       " [1, '4'],\n",
       " [1, '2']]"
      ]
     },
     "execution_count": 36,
     "metadata": {},
     "output_type": "execute_result"
    }
   ],
   "source": [
    "# we sort from high to low\n",
    "sorted(new_list,reverse = True) # \" arrange by first elements\""
   ]
  },
  {
   "cell_type": "markdown",
   "metadata": {},
   "source": [
    "### Nested Dictionaries\n",
    "\n",
    "We can also have `dictionaries` within `dictionaries`."
   ]
  },
  {
   "cell_type": "code",
   "execution_count": 37,
   "metadata": {},
   "outputs": [
    {
     "data": {
      "text/plain": [
       "{'Clark': {'age': 20, 'weight': 170}, 'Bruce': {'age': 25, 'height': 6}}"
      ]
     },
     "execution_count": 37,
     "metadata": {},
     "output_type": "execute_result"
    }
   ],
   "source": [
    "my_dict = {'Clark': {'age': 20, 'weight': 170},\n",
    "          'Bruce': {'age': 25, 'height': 6}}\n",
    "\n",
    "my_dict"
   ]
  },
  {
   "cell_type": "code",
   "execution_count": 39,
   "metadata": {},
   "outputs": [
    {
     "data": {
      "text/plain": [
       "25"
      ]
     },
     "execution_count": 39,
     "metadata": {},
     "output_type": "execute_result"
    }
   ],
   "source": [
    "my_dict['Bruce']['age'] # \"subseting in nested dictionary\""
   ]
  },
  {
   "cell_type": "code",
   "execution_count": null,
   "metadata": {},
   "outputs": [],
   "source": []
  }
 ],
 "metadata": {
  "kernelspec": {
   "display_name": "Python 3",
   "language": "python",
   "name": "python3"
  },
  "language_info": {
   "codemirror_mode": {
    "name": "ipython",
    "version": 3
   },
   "file_extension": ".py",
   "mimetype": "text/x-python",
   "name": "python",
   "nbconvert_exporter": "python",
   "pygments_lexer": "ipython3",
   "version": "3.7.6"
  },
  "toc": {
   "base_numbering": 1,
   "nav_menu": {},
   "number_sections": false,
   "sideBar": true,
   "skip_h1_title": false,
   "title_cell": "Table of Contents",
   "title_sidebar": "Contents",
   "toc_cell": false,
   "toc_position": {},
   "toc_section_display": true,
   "toc_window_display": true
  }
 },
 "nbformat": 4,
 "nbformat_minor": 2
}
